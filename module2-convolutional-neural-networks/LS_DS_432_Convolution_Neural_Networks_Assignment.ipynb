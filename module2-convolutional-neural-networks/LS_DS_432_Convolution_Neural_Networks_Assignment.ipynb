{
  "nbformat": 4,
  "nbformat_minor": 0,
  "metadata": {
    "kernelspec": {
      "display_name": "U4-S2-NNF-DS10",
      "language": "python",
      "name": "u4-s2-nnf-ds10"
    },
    "language_info": {
      "codemirror_mode": {
        "name": "ipython",
        "version": 3
      },
      "file_extension": ".py",
      "mimetype": "text/x-python",
      "name": "python",
      "nbconvert_exporter": "python",
      "pygments_lexer": "ipython3",
      "version": "3.7.6"
    },
    "nteract": {
      "version": "0.23.1"
    },
    "colab": {
      "name": "LS_DS_432_Convolution_Neural_Networks_Assignment.ipynb",
      "provenance": []
    },
    "accelerator": "GPU"
  },
  "cells": [
    {
      "cell_type": "markdown",
      "metadata": {
        "id": "6UljOl-rXq2t",
        "colab_type": "text"
      },
      "source": [
        "<img align=\"left\" src=\"https://lever-client-logos.s3.amazonaws.com/864372b1-534c-480e-acd5-9711f850815c-1524247202159.png\" width=200>\n",
        "<br></br>\n",
        "<br></br>\n",
        "\n",
        "## *Data Science Unit 4 Sprint 3 Assignment 2*\n",
        "# Convolutional Neural Networks (CNNs)"
      ]
    },
    {
      "cell_type": "markdown",
      "metadata": {
        "colab_type": "text",
        "id": "0lfZdD_cp1t5"
      },
      "source": [
        "# Assignment\n",
        "\n",
        "- <a href=\"#p1\">Part 1:</a> Pre-Trained Model\n",
        "- <a href=\"#p2\">Part 2:</a> Custom CNN Model\n",
        "- <a href=\"#p3\">Part 3:</a> CNN with Data Augmentation\n",
        "\n",
        "\n",
        "You will apply three different CNN models to a binary image classification model using Keras. Classify images of Mountains (`./data/train/mountain/*`) and images of forests (`./data/train/forest/*`). Treat mountains as the positive class (1) and the forest images as the negative (zero). \n",
        "\n",
        "|Mountain (+)|Forest (-)|\n",
        "|---|---|\n",
        "|![](https://github.com/zachary-hamilton/DS-Unit-4-Sprint-3-Deep-Learning/blob/main/module2-convolutional-neural-networks/data/train/mountain/art1131.jpg?raw=1)|![](https://github.com/zachary-hamilton/DS-Unit-4-Sprint-3-Deep-Learning/blob/main/module2-convolutional-neural-networks/data/validation/forest/cdmc317.jpg?raw=1)|\n",
        "\n",
        "The problem is relatively difficult given that the sample is tiny: there are about 350 observations per class. This sample size might be something that you can expect with prototyping an image classification problem/solution at work. Get accustomed to evaluating several different possible models."
      ]
    },
    {
      "cell_type": "markdown",
      "metadata": {
        "colab_type": "text",
        "id": "eynjdzh2Xq2w"
      },
      "source": [
        "# Pre - Trained Model\n",
        "<a id=\"p1\"></a>\n",
        "\n",
        "Load a pretrained network from Keras, [ResNet50](https://tfhub.dev/google/imagenet/resnet_v1_50/classification/1) - a 50 layer deep network trained to recognize [1000 objects](https://storage.googleapis.com/download.tensorflow.org/data/ImageNetLabels.txt). Starting usage:\n",
        "\n",
        "```python\n",
        "import numpy as np\n",
        "\n",
        "from tensorflow.keras.applications.resnet50 import ResNet50\n",
        "from tensorflow.keras.preprocessing import image\n",
        "from tensorflow.keras.applications.resnet50 import preprocess_input, decode_predictions\n",
        "\n",
        "from tensorflow.keras.layers import Dense, GlobalAveragePooling2D\n",
        "from tensorflow.keras.models import Model # This is the functional API\n",
        "\n",
        "resnet = ResNet50(weights='imagenet', include_top=False)\n",
        "\n",
        "```\n",
        "\n",
        "The `include_top` parameter in `ResNet50` will remove the full connected layers from the ResNet model. The next step is to turn off the training of the ResNet layers. We want to use the learned parameters without updating them in future training passes. \n",
        "\n",
        "```python\n",
        "for layer in resnet.layers:\n",
        "    layer.trainable = False\n",
        "```\n",
        "\n",
        "Using the Keras functional API, we will need to additional additional full connected layers to our model. We we removed the top layers, we removed all preivous fully connected layers. In other words, we kept only the feature processing portions of our network. You can expert with additional layers beyond what's listed here. The `GlobalAveragePooling2D` layer functions as a really fancy flatten function by taking the average of each of the last convolutional layer outputs (which is two dimensional still). \n",
        "\n",
        "```python\n",
        "x = resnet.output\n",
        "x = GlobalAveragePooling2D()(x) # This layer is a really fancy flatten\n",
        "x = Dense(1024, activation='relu')(x)\n",
        "predictions = Dense(1, activation='sigmoid')(x)\n",
        "model = Model(resnet.input, predictions)\n",
        "```\n",
        "\n",
        "Your assignment is to apply the transfer learning above to classify images of Mountains (`./data/train/mountain/*`) and images of forests (`./data/train/forest/*`). Treat mountains as the positive class (1) and the forest images as the negative (zero). \n",
        "\n",
        "Steps to complete assignment: \n",
        "1. Load in Image Data into numpy arrays (`X`) \n",
        "2. Create a `y` for the labels\n",
        "3. Train your model with pre-trained layers from resnet\n",
        "4. Report your model's accuracy"
      ]
    },
    {
      "cell_type": "code",
      "metadata": {
        "id": "FiRnjd1nX7EH",
        "colab_type": "code",
        "colab": {}
      },
      "source": [
        "# imports\n",
        "import tensorflow as tf\n",
        "import os\n",
        "from tensorflow.keras.preprocessing.image import ImageDataGenerator\n",
        "\n",
        "import numpy as np\n",
        " \n",
        "from tensorflow.keras.applications.resnet50 import ResNet50\n",
        "from tensorflow.keras.preprocessing import image\n",
        "from tensorflow.keras.applications.resnet50 import preprocess_input, decode_predictions\n",
        " \n",
        "from tensorflow.keras.layers import Dense, GlobalAveragePooling2D, Flatten, Conv2D, MaxPooling2D, Dropout\n",
        "from tensorflow.keras.models import Sequential\n",
        "from tensorflow.keras.models import Model # This is the functional API\n",
        " \n",
        "resnet = ResNet50(weights='imagenet', include_top=False)"
      ],
      "execution_count": 93,
      "outputs": []
    },
    {
      "cell_type": "markdown",
      "metadata": {
        "id": "60qTdSTqXq2z",
        "colab_type": "text"
      },
      "source": [
        "## Load in Data\n",
        "\n",
        "This surprisingly more difficult than it seems, because you are working with directories of images instead of a single file. This boiler plate will help you download a zipped version of the directory of images. The directory is organized into \"train\" and \"validation\" which you can use inside an `ImageGenerator` class to stream batches of images thru your model.  \n"
      ]
    },
    {
      "cell_type": "markdown",
      "metadata": {
        "id": "5tBCV5rNXq20",
        "colab_type": "text"
      },
      "source": [
        "### Download & Summarize the Data\n",
        "\n",
        "This step is completed for you. Just run the cells and review the results. "
      ]
    },
    {
      "cell_type": "code",
      "metadata": {
        "id": "VfrBB2_l2ECJ",
        "colab_type": "code",
        "colab": {
          "base_uri": "https://localhost:8080/",
          "height": 255
        },
        "outputId": "5533b664-c105-44f8-d8dd-3bfe97b7ecde"
      },
      "source": [
        "!unzip data.zipy"
      ],
      "execution_count": 19,
      "outputs": [
        {
          "output_type": "stream",
          "text": [
            "Archive:  data.zip\n",
            "replace __MACOSX/._data? [y]es, [n]o, [A]ll, [N]one, [r]ename: y\n",
            "  inflating: __MACOSX/._data         \n",
            "replace data/.DS_Store? [y]es, [n]o, [A]ll, [N]one, [r]ename: y\n",
            "  inflating: data/.DS_Store          \n",
            "replace __MACOSX/data/._.DS_Store? [y]es, [n]o, [A]ll, [N]one, [r]ename: y\n",
            "  inflating: __MACOSX/data/._.DS_Store  \n",
            "replace data/train/.DS_Store? [y]es, [n]o, [A]ll, [N]one, [r]ename: y\n",
            "  inflating: data/train/.DS_Store    \n",
            "replace __MACOSX/data/train/._.DS_Store? [y]es, [n]o, [A]ll, [N]one, [r]ename: y\n",
            "  inflating: __MACOSX/data/train/._.DS_Store  \n",
            "replace data/.ipynb_checkpoints/CNN Live Demo-checkpoint.ipynb? [y]es, [n]o, [A]ll, [N]one, [r]ename: y\n",
            "  inflating: data/.ipynb_checkpoints/CNN Live Demo-checkpoint.ipynb  \n",
            "replace data/validation/.DS_Store? [y]es, [n]o, [A]ll, [N]one, [r]ename: "
          ],
          "name": "stdout"
        }
      ]
    },
    {
      "cell_type": "code",
      "metadata": {
        "id": "c-ck4tmKXq22",
        "colab_type": "code",
        "colab": {}
      },
      "source": [
        "_URL = 'https://github.com/LambdaSchool/DS-Unit-4-Sprint-3-Deep-Learning/blob/main/module2-convolutional-neural-networks/data.zip?raw=true'\n",
        "\n",
        "path_to_zip = tf.keras.utils.get_file('./data.zip', origin=_URL, extract=True)\n",
        "PATH = '/content/data' # had to upload and unzip manually"
      ],
      "execution_count": 28,
      "outputs": []
    },
    {
      "cell_type": "code",
      "metadata": {
        "id": "xM0HF8f3Xq3H",
        "colab_type": "code",
        "colab": {}
      },
      "source": [
        "train_dir = os.path.join(PATH, 'train')\n",
        "validation_dir = os.path.join(PATH, 'validation')"
      ],
      "execution_count": 29,
      "outputs": []
    },
    {
      "cell_type": "code",
      "metadata": {
        "id": "9numLDyGXq3M",
        "colab_type": "code",
        "colab": {}
      },
      "source": [
        "train_mountain_dir = os.path.join(train_dir, 'mountain')  # directory with our training mountain pictures\n",
        "train_forest_dir = os.path.join(train_dir, 'forest')  # directory with our training forest pictures\n",
        "validation_mountain_dir = os.path.join(validation_dir, 'mountain')  # directory with our validation mountain pictures\n",
        "validation_forest_dir = os.path.join(validation_dir, 'forest')  # directory with our validation forest pictures"
      ],
      "execution_count": 30,
      "outputs": []
    },
    {
      "cell_type": "code",
      "metadata": {
        "id": "BYFoCD7KXq3R",
        "colab_type": "code",
        "colab": {}
      },
      "source": [
        "num_mountain_tr = len(os.listdir(train_mountain_dir))\n",
        "num_forest_tr = len(os.listdir(train_forest_dir))\n",
        "\n",
        "num_mountain_val = len(os.listdir(validation_mountain_dir))\n",
        "num_forest_val = len(os.listdir(validation_forest_dir))\n",
        "\n",
        "total_train = num_mountain_tr + num_forest_tr\n",
        "total_val = num_mountain_val + num_forest_val"
      ],
      "execution_count": 32,
      "outputs": []
    },
    {
      "cell_type": "code",
      "metadata": {
        "id": "RNBoW6pkXq3f",
        "colab_type": "code",
        "colab": {
          "base_uri": "https://localhost:8080/",
          "height": 136
        },
        "outputId": "5eea4e2c-05d9-4ecc-eae4-484c787714df"
      },
      "source": [
        "print('total training mountain images:', num_mountain_tr)\n",
        "print('total training forest images:', num_forest_tr)\n",
        "\n",
        "print('total validation mountain images:', num_mountain_val)\n",
        "print('total validation forest images:', num_forest_val)\n",
        "print(\"--\")\n",
        "print(\"Total training images:\", total_train)\n",
        "print(\"Total validation images:\", total_val)"
      ],
      "execution_count": 33,
      "outputs": [
        {
          "output_type": "stream",
          "text": [
            "total training mountain images: 254\n",
            "total training forest images: 270\n",
            "total validation mountain images: 125\n",
            "total validation forest images: 62\n",
            "--\n",
            "Total training images: 524\n",
            "Total validation images: 187\n"
          ],
          "name": "stdout"
        }
      ]
    },
    {
      "cell_type": "markdown",
      "metadata": {
        "id": "e0Tc8BCRXq3l",
        "colab_type": "text"
      },
      "source": [
        "### Keras `ImageGenerator` to Process the Data\n",
        "\n",
        "This step is completed for you, but please review the code. The `ImageGenerator` class reads in batches of data from a directory and pass them to the model one batch at a time. Just like large text files, this method is advantageous, because it stifles the need to load a bunch of images into memory. \n",
        "\n",
        "Check out the documentation for this class method: [Keras `ImageGenerator` Class](https://keras.io/preprocessing/image/#imagedatagenerator-class). You'll expand it's use in the third assignment objective."
      ]
    },
    {
      "cell_type": "code",
      "metadata": {
        "id": "4ClJcT0QXq3m",
        "colab_type": "code",
        "colab": {}
      },
      "source": [
        "batch_size = 16\n",
        "epochs = 50\n",
        "IMG_HEIGHT = 224\n",
        "IMG_WIDTH = 224"
      ],
      "execution_count": 85,
      "outputs": []
    },
    {
      "cell_type": "code",
      "metadata": {
        "id": "Va1P93rpXq3v",
        "colab_type": "code",
        "colab": {}
      },
      "source": [
        "train_image_generator = ImageDataGenerator(rescale=1./255) # Generator for our training data\n",
        "validation_image_generator = ImageDataGenerator(rescale=1./255) # Generator for our validation data"
      ],
      "execution_count": 86,
      "outputs": []
    },
    {
      "cell_type": "code",
      "metadata": {
        "id": "9VrZU2RkXq31",
        "colab_type": "code",
        "colab": {
          "base_uri": "https://localhost:8080/",
          "height": 34
        },
        "outputId": "53a63023-0220-4021-9843-837d2ce7c828"
      },
      "source": [
        "train_data_gen = train_image_generator.flow_from_directory(batch_size=batch_size,\n",
        "                                                           directory=train_dir,\n",
        "                                                           shuffle=True,\n",
        "                                                           target_size=(IMG_HEIGHT, IMG_WIDTH),\n",
        "                                                           class_mode='binary')"
      ],
      "execution_count": 87,
      "outputs": [
        {
          "output_type": "stream",
          "text": [
            "Found 533 images belonging to 2 classes.\n"
          ],
          "name": "stdout"
        }
      ]
    },
    {
      "cell_type": "code",
      "metadata": {
        "id": "hnZpfNPcXq36",
        "colab_type": "code",
        "colab": {
          "base_uri": "https://localhost:8080/",
          "height": 34
        },
        "outputId": "b8f19fa7-c9a3-4971-f802-1a019244ab6b"
      },
      "source": [
        "val_data_gen = validation_image_generator.flow_from_directory(batch_size=batch_size,\n",
        "                                                              directory=validation_dir,\n",
        "                                                              target_size=(IMG_HEIGHT, IMG_WIDTH),\n",
        "                                                              class_mode='binary')"
      ],
      "execution_count": 88,
      "outputs": [
        {
          "output_type": "stream",
          "text": [
            "Found 195 images belonging to 2 classes.\n"
          ],
          "name": "stdout"
        }
      ]
    },
    {
      "cell_type": "markdown",
      "metadata": {
        "id": "9NVHEV85Xq4B",
        "colab_type": "text"
      },
      "source": [
        "## Instatiate Model"
      ]
    },
    {
      "cell_type": "code",
      "metadata": {
        "id": "QdnAS17RXq4C",
        "colab_type": "code",
        "colab": {}
      },
      "source": [
        "for layer in resnet.layers:\n",
        "    layer.trainable = False"
      ],
      "execution_count": 40,
      "outputs": []
    },
    {
      "cell_type": "code",
      "metadata": {
        "id": "2Pl7jfzoZ2DO",
        "colab_type": "code",
        "colab": {}
      },
      "source": [
        "x = resnet.output\n",
        "x = GlobalAveragePooling2D()(x) # This layer is a really fancy flatten\n",
        "x = Dense(1024, activation='relu')(x)\n",
        "predictions = Dense(1, activation='sigmoid')(x)\n",
        "model = Model(resnet.input, predictions)\n",
        "model.compile(optimizer='adam',\n",
        "              loss='binary_crossentropy',\n",
        "              metrics=['accuracy'])"
      ],
      "execution_count": 41,
      "outputs": []
    },
    {
      "cell_type": "markdown",
      "metadata": {
        "id": "GvpAwK7zXq4J",
        "colab_type": "text"
      },
      "source": [
        "## Fit Model"
      ]
    },
    {
      "cell_type": "code",
      "metadata": {
        "id": "r-WYEsc1Xq4J",
        "colab_type": "code",
        "colab": {
          "base_uri": "https://localhost:8080/",
          "height": 1000
        },
        "outputId": "35d86310-ecbc-455a-89ab-ac96a2bca566"
      },
      "source": [
        "history = model.fit(\n",
        "    train_data_gen,\n",
        "    steps_per_epoch=total_train // batch_size,\n",
        "    epochs=epochs,\n",
        "    validation_data=val_data_gen,\n",
        "    validation_steps=total_val // batch_size\n",
        ")"
      ],
      "execution_count": 42,
      "outputs": [
        {
          "output_type": "stream",
          "text": [
            "Epoch 1/50\n",
            "32/32 [==============================] - 4s 116ms/step - loss: 0.8445 - accuracy: 0.5329 - val_loss: 0.5771 - val_accuracy: 0.6818\n",
            "Epoch 2/50\n",
            "32/32 [==============================] - 3s 82ms/step - loss: 0.6520 - accuracy: 0.6068 - val_loss: 0.5251 - val_accuracy: 0.6989\n",
            "Epoch 3/50\n",
            "32/32 [==============================] - 3s 81ms/step - loss: 0.5534 - accuracy: 0.6866 - val_loss: 0.6398 - val_accuracy: 0.5966\n",
            "Epoch 4/50\n",
            "32/32 [==============================] - 3s 82ms/step - loss: 0.4802 - accuracy: 0.7988 - val_loss: 0.4793 - val_accuracy: 0.8182\n",
            "Epoch 5/50\n",
            "32/32 [==============================] - 3s 82ms/step - loss: 0.4370 - accuracy: 0.8363 - val_loss: 0.9113 - val_accuracy: 0.4318\n",
            "Epoch 6/50\n",
            "32/32 [==============================] - 3s 83ms/step - loss: 0.3957 - accuracy: 0.8477 - val_loss: 0.4117 - val_accuracy: 0.8352\n",
            "Epoch 7/50\n",
            "32/32 [==============================] - 3s 81ms/step - loss: 0.4101 - accuracy: 0.8124 - val_loss: 0.3794 - val_accuracy: 0.8807\n",
            "Epoch 8/50\n",
            "32/32 [==============================] - 3s 80ms/step - loss: 0.3720 - accuracy: 0.8423 - val_loss: 0.3998 - val_accuracy: 0.8295\n",
            "Epoch 9/50\n",
            "32/32 [==============================] - 3s 81ms/step - loss: 0.3096 - accuracy: 0.8762 - val_loss: 0.3519 - val_accuracy: 0.8693\n",
            "Epoch 10/50\n",
            "32/32 [==============================] - 3s 80ms/step - loss: 0.2816 - accuracy: 0.9182 - val_loss: 0.3197 - val_accuracy: 0.8977\n",
            "Epoch 11/50\n",
            "32/32 [==============================] - 3s 80ms/step - loss: 0.3219 - accuracy: 0.8822 - val_loss: 0.6761 - val_accuracy: 0.6477\n",
            "Epoch 12/50\n",
            "32/32 [==============================] - 3s 80ms/step - loss: 0.3251 - accuracy: 0.8683 - val_loss: 0.2808 - val_accuracy: 0.9148\n",
            "Epoch 13/50\n",
            "32/32 [==============================] - 3s 81ms/step - loss: 0.2375 - accuracy: 0.9242 - val_loss: 0.3638 - val_accuracy: 0.8409\n",
            "Epoch 14/50\n",
            "32/32 [==============================] - 3s 82ms/step - loss: 0.2252 - accuracy: 0.9222 - val_loss: 0.2614 - val_accuracy: 0.9318\n",
            "Epoch 15/50\n",
            "32/32 [==============================] - 3s 80ms/step - loss: 0.2083 - accuracy: 0.9321 - val_loss: 0.2469 - val_accuracy: 0.8920\n",
            "Epoch 16/50\n",
            "32/32 [==============================] - 3s 80ms/step - loss: 0.2443 - accuracy: 0.9002 - val_loss: 0.2482 - val_accuracy: 0.9034\n",
            "Epoch 17/50\n",
            "32/32 [==============================] - 3s 81ms/step - loss: 0.2304 - accuracy: 0.9002 - val_loss: 0.2732 - val_accuracy: 0.8977\n",
            "Epoch 18/50\n",
            "32/32 [==============================] - 3s 80ms/step - loss: 0.1946 - accuracy: 0.9336 - val_loss: 0.2437 - val_accuracy: 0.9091\n",
            "Epoch 19/50\n",
            "32/32 [==============================] - 3s 80ms/step - loss: 0.2137 - accuracy: 0.9082 - val_loss: 0.2896 - val_accuracy: 0.8750\n",
            "Epoch 20/50\n",
            "32/32 [==============================] - 3s 80ms/step - loss: 0.2147 - accuracy: 0.9182 - val_loss: 0.2393 - val_accuracy: 0.9261\n",
            "Epoch 21/50\n",
            "32/32 [==============================] - 3s 81ms/step - loss: 0.2035 - accuracy: 0.9122 - val_loss: 0.2976 - val_accuracy: 0.8693\n",
            "Epoch 22/50\n",
            "32/32 [==============================] - 3s 80ms/step - loss: 0.1704 - accuracy: 0.9361 - val_loss: 0.2382 - val_accuracy: 0.8864\n",
            "Epoch 23/50\n",
            "32/32 [==============================] - 3s 79ms/step - loss: 0.1612 - accuracy: 0.9541 - val_loss: 0.3154 - val_accuracy: 0.8580\n",
            "Epoch 24/50\n",
            "32/32 [==============================] - 3s 80ms/step - loss: 0.1582 - accuracy: 0.9481 - val_loss: 0.2168 - val_accuracy: 0.9318\n",
            "Epoch 25/50\n",
            "32/32 [==============================] - 3s 80ms/step - loss: 0.1342 - accuracy: 0.9541 - val_loss: 0.3123 - val_accuracy: 0.8239\n",
            "Epoch 26/50\n",
            "32/32 [==============================] - 3s 79ms/step - loss: 0.2268 - accuracy: 0.8982 - val_loss: 0.4089 - val_accuracy: 0.8466\n",
            "Epoch 27/50\n",
            "32/32 [==============================] - 3s 80ms/step - loss: 0.1594 - accuracy: 0.9321 - val_loss: 0.2188 - val_accuracy: 0.9375\n",
            "Epoch 28/50\n",
            "32/32 [==============================] - 3s 80ms/step - loss: 0.1325 - accuracy: 0.9561 - val_loss: 0.2978 - val_accuracy: 0.8750\n",
            "Epoch 29/50\n",
            "32/32 [==============================] - 3s 79ms/step - loss: 0.1149 - accuracy: 0.9581 - val_loss: 0.2291 - val_accuracy: 0.9261\n",
            "Epoch 30/50\n",
            "32/32 [==============================] - 3s 80ms/step - loss: 0.1256 - accuracy: 0.9581 - val_loss: 0.2710 - val_accuracy: 0.9034\n",
            "Epoch 31/50\n",
            "32/32 [==============================] - 3s 81ms/step - loss: 0.1034 - accuracy: 0.9661 - val_loss: 0.1809 - val_accuracy: 0.9375\n",
            "Epoch 32/50\n",
            "32/32 [==============================] - 3s 80ms/step - loss: 0.1140 - accuracy: 0.9581 - val_loss: 0.1889 - val_accuracy: 0.9375\n",
            "Epoch 33/50\n",
            "32/32 [==============================] - 3s 80ms/step - loss: 0.1040 - accuracy: 0.9681 - val_loss: 0.2767 - val_accuracy: 0.8977\n",
            "Epoch 34/50\n",
            "32/32 [==============================] - 3s 80ms/step - loss: 0.1176 - accuracy: 0.9461 - val_loss: 0.2921 - val_accuracy: 0.8466\n",
            "Epoch 35/50\n",
            "32/32 [==============================] - 3s 79ms/step - loss: 0.1649 - accuracy: 0.9281 - val_loss: 0.2945 - val_accuracy: 0.8466\n",
            "Epoch 36/50\n",
            "32/32 [==============================] - 3s 80ms/step - loss: 0.1213 - accuracy: 0.9434 - val_loss: 0.1856 - val_accuracy: 0.9489\n",
            "Epoch 37/50\n",
            "32/32 [==============================] - 3s 79ms/step - loss: 0.1045 - accuracy: 0.9681 - val_loss: 0.3980 - val_accuracy: 0.8523\n",
            "Epoch 38/50\n",
            "32/32 [==============================] - 3s 79ms/step - loss: 0.1319 - accuracy: 0.9521 - val_loss: 0.2383 - val_accuracy: 0.8864\n",
            "Epoch 39/50\n",
            "32/32 [==============================] - 3s 79ms/step - loss: 0.1699 - accuracy: 0.9242 - val_loss: 0.2539 - val_accuracy: 0.9091\n",
            "Epoch 40/50\n",
            "32/32 [==============================] - 3s 80ms/step - loss: 0.1187 - accuracy: 0.9481 - val_loss: 0.1953 - val_accuracy: 0.9318\n",
            "Epoch 41/50\n",
            "32/32 [==============================] - 3s 79ms/step - loss: 0.0927 - accuracy: 0.9661 - val_loss: 0.2789 - val_accuracy: 0.9034\n",
            "Epoch 42/50\n",
            "32/32 [==============================] - 3s 79ms/step - loss: 0.1313 - accuracy: 0.9421 - val_loss: 0.1313 - val_accuracy: 0.9545\n",
            "Epoch 43/50\n",
            "32/32 [==============================] - 3s 80ms/step - loss: 0.1148 - accuracy: 0.9601 - val_loss: 0.5538 - val_accuracy: 0.8182\n",
            "Epoch 44/50\n",
            "32/32 [==============================] - 3s 79ms/step - loss: 0.0830 - accuracy: 0.9741 - val_loss: 0.2154 - val_accuracy: 0.9489\n",
            "Epoch 45/50\n",
            "32/32 [==============================] - 3s 79ms/step - loss: 0.0953 - accuracy: 0.9701 - val_loss: 0.2763 - val_accuracy: 0.9091\n",
            "Epoch 46/50\n",
            "32/32 [==============================] - 3s 79ms/step - loss: 0.0772 - accuracy: 0.9688 - val_loss: 0.3126 - val_accuracy: 0.8864\n",
            "Epoch 47/50\n",
            "32/32 [==============================] - 3s 79ms/step - loss: 0.0682 - accuracy: 0.9760 - val_loss: 0.2749 - val_accuracy: 0.9148\n",
            "Epoch 48/50\n",
            "32/32 [==============================] - 3s 79ms/step - loss: 0.0678 - accuracy: 0.9780 - val_loss: 0.2681 - val_accuracy: 0.9091\n",
            "Epoch 49/50\n",
            "32/32 [==============================] - 3s 79ms/step - loss: 0.0666 - accuracy: 0.9760 - val_loss: 0.3072 - val_accuracy: 0.8864\n",
            "Epoch 50/50\n",
            "32/32 [==============================] - 3s 78ms/step - loss: 0.0914 - accuracy: 0.9621 - val_loss: 0.2912 - val_accuracy: 0.8636\n"
          ],
          "name": "stdout"
        }
      ]
    },
    {
      "cell_type": "markdown",
      "metadata": {
        "id": "c3UddKsBXq4P",
        "colab_type": "text"
      },
      "source": [
        "# Custom CNN Model\n",
        "\n",
        "In this step, write and train your own convolutional neural network using Keras. You can use any architecture that suits you as long as it has at least one convolutional and one pooling layer at the beginning of the network - you can add more if you want. "
      ]
    },
    {
      "cell_type": "code",
      "metadata": {
        "id": "5vuZ1UyLXq4Q",
        "colab_type": "code",
        "colab": {
          "base_uri": "https://localhost:8080/",
          "height": 391
        },
        "outputId": "daaf35e4-0bbd-4e11-f48d-cce0cb52437f"
      },
      "source": [
        "# Define the Model\n",
        "input_shape = train_data_gen[0][0][0].shape\n",
        "\n",
        "model = Sequential()\n",
        "\n",
        "model.add(Conv2D(32, (3,3), activation='relu', input_shape=input_shape))\n",
        "model.add(MaxPooling2D((2,2)))\n",
        "model.add(Dropout(0.2))\n",
        "\n",
        "model.add(Flatten())\n",
        "\n",
        "model.add(Dense(64, activation='relu'))\n",
        "model.add(Dropout(0.2))\n",
        "\n",
        "model.add(Dense(1, activation='softmax'))\n",
        "\n",
        "model.summary()"
      ],
      "execution_count": 94,
      "outputs": [
        {
          "output_type": "stream",
          "text": [
            "Model: \"sequential_10\"\n",
            "_________________________________________________________________\n",
            "Layer (type)                 Output Shape              Param #   \n",
            "=================================================================\n",
            "conv2d_10 (Conv2D)           (None, 222, 222, 32)      896       \n",
            "_________________________________________________________________\n",
            "max_pooling2d_10 (MaxPooling (None, 111, 111, 32)      0         \n",
            "_________________________________________________________________\n",
            "dropout (Dropout)            (None, 111, 111, 32)      0         \n",
            "_________________________________________________________________\n",
            "flatten_8 (Flatten)          (None, 394272)            0         \n",
            "_________________________________________________________________\n",
            "dense_18 (Dense)             (None, 64)                25233472  \n",
            "_________________________________________________________________\n",
            "dropout_1 (Dropout)          (None, 64)                0         \n",
            "_________________________________________________________________\n",
            "dense_19 (Dense)             (None, 1)                 65        \n",
            "=================================================================\n",
            "Total params: 25,234,433\n",
            "Trainable params: 25,234,433\n",
            "Non-trainable params: 0\n",
            "_________________________________________________________________\n"
          ],
          "name": "stdout"
        }
      ]
    },
    {
      "cell_type": "code",
      "metadata": {
        "id": "qQpxu79uXq4U",
        "colab_type": "code",
        "colab": {}
      },
      "source": [
        "# Compile Model\n",
        "model.compile(optimizer='adam',\n",
        "              loss='binary_crossentropy',\n",
        "              metrics=['accuracy'])"
      ],
      "execution_count": 95,
      "outputs": []
    },
    {
      "cell_type": "code",
      "metadata": {
        "id": "YBjvJXZZXq4Z",
        "colab_type": "code",
        "colab": {
          "base_uri": "https://localhost:8080/",
          "height": 1000
        },
        "outputId": "0c0e04d2-ff97-4419-dfa2-e0fc2d0a9d85"
      },
      "source": [
        "# Fit Model\n",
        "results = model.fit(\n",
        "    train_data_gen,\n",
        "    steps_per_epoch=total_train // batch_size,\n",
        "    epochs=epochs,\n",
        "    validation_data=val_data_gen,\n",
        "    validation_steps=total_val // batch_size\n",
        ")"
      ],
      "execution_count": 96,
      "outputs": [
        {
          "output_type": "stream",
          "text": [
            "Epoch 1/50\n",
            "32/32 [==============================] - 2s 66ms/step - loss: 7.6703 - accuracy: 0.4970 - val_loss: 5.2852 - val_accuracy: 0.6534\n",
            "Epoch 2/50\n",
            "32/32 [==============================] - 2s 61ms/step - loss: 7.8833 - accuracy: 0.4830 - val_loss: 5.1120 - val_accuracy: 0.6648\n",
            "Epoch 3/50\n",
            "32/32 [==============================] - 2s 61ms/step - loss: 7.7920 - accuracy: 0.4890 - val_loss: 5.1986 - val_accuracy: 0.6591\n",
            "Epoch 4/50\n",
            "32/32 [==============================] - 2s 61ms/step - loss: 7.8833 - accuracy: 0.4830 - val_loss: 4.9387 - val_accuracy: 0.6761\n",
            "Epoch 5/50\n",
            "32/32 [==============================] - 2s 59ms/step - loss: 8.0660 - accuracy: 0.4711 - val_loss: 5.5452 - val_accuracy: 0.6364\n",
            "Epoch 6/50\n",
            "32/32 [==============================] - 2s 60ms/step - loss: 7.8529 - accuracy: 0.4850 - val_loss: 5.0253 - val_accuracy: 0.6705\n",
            "Epoch 7/50\n",
            "32/32 [==============================] - 2s 60ms/step - loss: 7.9747 - accuracy: 0.4770 - val_loss: 5.0253 - val_accuracy: 0.6705\n",
            "Epoch 8/50\n",
            "32/32 [==============================] - 2s 60ms/step - loss: 7.9225 - accuracy: 0.4805 - val_loss: 5.3719 - val_accuracy: 0.6477\n",
            "Epoch 9/50\n",
            "32/32 [==============================] - 2s 61ms/step - loss: 7.8529 - accuracy: 0.4850 - val_loss: 5.5452 - val_accuracy: 0.6364\n",
            "Epoch 10/50\n",
            "32/32 [==============================] - 2s 60ms/step - loss: 7.8033 - accuracy: 0.4883 - val_loss: 5.4585 - val_accuracy: 0.6420\n",
            "Epoch 11/50\n",
            "32/32 [==============================] - 2s 60ms/step - loss: 7.8529 - accuracy: 0.4850 - val_loss: 5.2852 - val_accuracy: 0.6534\n",
            "Epoch 12/50\n",
            "32/32 [==============================] - 2s 61ms/step - loss: 7.8529 - accuracy: 0.4850 - val_loss: 5.4585 - val_accuracy: 0.6420\n",
            "Epoch 13/50\n",
            "32/32 [==============================] - 2s 60ms/step - loss: 7.9138 - accuracy: 0.4810 - val_loss: 5.1986 - val_accuracy: 0.6591\n",
            "Epoch 14/50\n",
            "32/32 [==============================] - 2s 60ms/step - loss: 7.9138 - accuracy: 0.4810 - val_loss: 5.3719 - val_accuracy: 0.6477\n",
            "Epoch 15/50\n",
            "32/32 [==============================] - 2s 60ms/step - loss: 7.8529 - accuracy: 0.4850 - val_loss: 5.1120 - val_accuracy: 0.6648\n",
            "Epoch 16/50\n",
            "32/32 [==============================] - 2s 59ms/step - loss: 7.8529 - accuracy: 0.4850 - val_loss: 5.1120 - val_accuracy: 0.6648\n",
            "Epoch 17/50\n",
            "32/32 [==============================] - 2s 60ms/step - loss: 7.7007 - accuracy: 0.4950 - val_loss: 5.4585 - val_accuracy: 0.6420\n",
            "Epoch 18/50\n",
            "32/32 [==============================] - 2s 60ms/step - loss: 7.9747 - accuracy: 0.4770 - val_loss: 5.4585 - val_accuracy: 0.6420\n",
            "Epoch 19/50\n",
            "32/32 [==============================] - 2s 60ms/step - loss: 7.9747 - accuracy: 0.4770 - val_loss: 5.4585 - val_accuracy: 0.6420\n",
            "Epoch 20/50\n",
            "32/32 [==============================] - 2s 60ms/step - loss: 7.8833 - accuracy: 0.4830 - val_loss: 5.2852 - val_accuracy: 0.6534\n",
            "Epoch 21/50\n",
            "32/32 [==============================] - 2s 61ms/step - loss: 7.8833 - accuracy: 0.4830 - val_loss: 5.1120 - val_accuracy: 0.6648\n",
            "Epoch 22/50\n",
            "32/32 [==============================] - 2s 61ms/step - loss: 7.7616 - accuracy: 0.4910 - val_loss: 4.8520 - val_accuracy: 0.6818\n",
            "Epoch 23/50\n",
            "32/32 [==============================] - 2s 59ms/step - loss: 7.8225 - accuracy: 0.4870 - val_loss: 5.5452 - val_accuracy: 0.6364\n",
            "Epoch 24/50\n",
            "32/32 [==============================] - 2s 60ms/step - loss: 7.8331 - accuracy: 0.4863 - val_loss: 5.1986 - val_accuracy: 0.6591\n",
            "Epoch 25/50\n",
            "32/32 [==============================] - 2s 61ms/step - loss: 7.8225 - accuracy: 0.4870 - val_loss: 5.1986 - val_accuracy: 0.6591\n",
            "Epoch 26/50\n",
            "32/32 [==============================] - 2s 60ms/step - loss: 7.9747 - accuracy: 0.4770 - val_loss: 5.3719 - val_accuracy: 0.6477\n",
            "Epoch 27/50\n",
            "32/32 [==============================] - 2s 61ms/step - loss: 8.0051 - accuracy: 0.4750 - val_loss: 4.9387 - val_accuracy: 0.6761\n",
            "Epoch 28/50\n",
            "32/32 [==============================] - 2s 64ms/step - loss: 7.9747 - accuracy: 0.4770 - val_loss: 5.1120 - val_accuracy: 0.6648\n",
            "Epoch 29/50\n",
            "32/32 [==============================] - 2s 63ms/step - loss: 7.7920 - accuracy: 0.4890 - val_loss: 5.2852 - val_accuracy: 0.6534\n",
            "Epoch 30/50\n",
            "32/32 [==============================] - 2s 61ms/step - loss: 7.8833 - accuracy: 0.4830 - val_loss: 5.3719 - val_accuracy: 0.6477\n",
            "Epoch 31/50\n",
            "32/32 [==============================] - 2s 59ms/step - loss: 7.8529 - accuracy: 0.4850 - val_loss: 5.2852 - val_accuracy: 0.6534\n",
            "Epoch 32/50\n",
            "32/32 [==============================] - 2s 61ms/step - loss: 7.7616 - accuracy: 0.4910 - val_loss: 5.0253 - val_accuracy: 0.6705\n",
            "Epoch 33/50\n",
            "32/32 [==============================] - 2s 61ms/step - loss: 7.8225 - accuracy: 0.4870 - val_loss: 5.2852 - val_accuracy: 0.6534\n",
            "Epoch 34/50\n",
            "32/32 [==============================] - 2s 61ms/step - loss: 7.7920 - accuracy: 0.4890 - val_loss: 5.4585 - val_accuracy: 0.6420\n",
            "Epoch 35/50\n",
            "32/32 [==============================] - 2s 60ms/step - loss: 7.8833 - accuracy: 0.4830 - val_loss: 4.9387 - val_accuracy: 0.6761\n",
            "Epoch 36/50\n",
            "32/32 [==============================] - 2s 60ms/step - loss: 7.7007 - accuracy: 0.4950 - val_loss: 5.1120 - val_accuracy: 0.6648\n",
            "Epoch 37/50\n",
            "32/32 [==============================] - 2s 60ms/step - loss: 7.8833 - accuracy: 0.4830 - val_loss: 5.1986 - val_accuracy: 0.6591\n",
            "Epoch 38/50\n",
            "32/32 [==============================] - 2s 60ms/step - loss: 7.9747 - accuracy: 0.4770 - val_loss: 5.3719 - val_accuracy: 0.6477\n",
            "Epoch 39/50\n",
            "32/32 [==============================] - 2s 60ms/step - loss: 7.9442 - accuracy: 0.4790 - val_loss: 5.1986 - val_accuracy: 0.6591\n",
            "Epoch 40/50\n",
            "32/32 [==============================] - 2s 61ms/step - loss: 7.8833 - accuracy: 0.4830 - val_loss: 5.1120 - val_accuracy: 0.6648\n",
            "Epoch 41/50\n",
            "32/32 [==============================] - 2s 60ms/step - loss: 7.8225 - accuracy: 0.4870 - val_loss: 4.8520 - val_accuracy: 0.6818\n",
            "Epoch 42/50\n",
            "32/32 [==============================] - 2s 61ms/step - loss: 7.8833 - accuracy: 0.4830 - val_loss: 5.0253 - val_accuracy: 0.6705\n",
            "Epoch 43/50\n",
            "32/32 [==============================] - 2s 61ms/step - loss: 7.8833 - accuracy: 0.4830 - val_loss: 5.1120 - val_accuracy: 0.6648\n",
            "Epoch 44/50\n",
            "32/32 [==============================] - 2s 62ms/step - loss: 8.0051 - accuracy: 0.4750 - val_loss: 5.3719 - val_accuracy: 0.6477\n",
            "Epoch 45/50\n",
            "32/32 [==============================] - 2s 60ms/step - loss: 7.9442 - accuracy: 0.4790 - val_loss: 5.4585 - val_accuracy: 0.6420\n",
            "Epoch 46/50\n",
            "32/32 [==============================] - 2s 59ms/step - loss: 7.9747 - accuracy: 0.4770 - val_loss: 5.1986 - val_accuracy: 0.6591\n",
            "Epoch 47/50\n",
            "32/32 [==============================] - 2s 59ms/step - loss: 7.8833 - accuracy: 0.4830 - val_loss: 5.2852 - val_accuracy: 0.6534\n",
            "Epoch 48/50\n",
            "32/32 [==============================] - 2s 60ms/step - loss: 7.9747 - accuracy: 0.4770 - val_loss: 5.5452 - val_accuracy: 0.6364\n",
            "Epoch 49/50\n",
            "32/32 [==============================] - 2s 60ms/step - loss: 7.8225 - accuracy: 0.4870 - val_loss: 5.1986 - val_accuracy: 0.6591\n",
            "Epoch 50/50\n",
            "32/32 [==============================] - 2s 60ms/step - loss: 7.7312 - accuracy: 0.4930 - val_loss: 5.1986 - val_accuracy: 0.6591\n"
          ],
          "name": "stdout"
        }
      ]
    },
    {
      "cell_type": "markdown",
      "metadata": {
        "id": "OYXzY3SjXq4h",
        "colab_type": "text"
      },
      "source": [
        "# Custom CNN Model with Image Manipulations\n",
        "\n",
        "To simulate an increase in a sample of image, you can apply image manipulation techniques: cropping, rotation, stretching, etc. Luckily Keras has some handy functions for us to apply these techniques to our mountain and forest example. Simply, you should be able to modify our image generator for the problem. Check out these resources to help you get started: \n",
        "\n",
        "1. [Keras `ImageGenerator` Class](https://keras.io/preprocessing/image/#imagedatagenerator-class)\n",
        "2. [Building a powerful image classifier with very little data](https://blog.keras.io/building-powerful-image-classification-models-using-very-little-data.html)\n",
        " "
      ]
    },
    {
      "cell_type": "code",
      "metadata": {
        "id": "ruYGju19Xq4i",
        "colab_type": "code",
        "colab": {
          "base_uri": "https://localhost:8080/",
          "height": 34
        },
        "outputId": "339576c4-354d-4b72-e663-bde3f1a8c8cc"
      },
      "source": [
        "train_datagen = ImageDataGenerator(\n",
        "                            rescale=1./255,\n",
        "                            shear_range=0.2,\n",
        "                            zoom_range=0.2,\n",
        "                            horizontal_flip=True,\n",
        "                            width_shift_range=0.2,\n",
        "                            height_shift_range=0.2,\n",
        "                            rotation_range=40\n",
        "                        )\n",
        "\n",
        "train_generator = train_datagen.flow_from_directory(batch_size=batch_size,\n",
        "                                                           directory=train_dir,\n",
        "                                                           shuffle=True,\n",
        "                                                           target_size=(IMG_HEIGHT, IMG_WIDTH),\n",
        "                                                           class_mode='binary')"
      ],
      "execution_count": 102,
      "outputs": [
        {
          "output_type": "stream",
          "text": [
            "Found 533 images belonging to 2 classes.\n"
          ],
          "name": "stdout"
        }
      ]
    },
    {
      "cell_type": "code",
      "metadata": {
        "id": "dqUiMQZ4Haij",
        "colab_type": "code",
        "colab": {
          "base_uri": "https://localhost:8080/",
          "height": 34
        },
        "outputId": "65ef7745-b1fb-417f-f370-39597df702fa"
      },
      "source": [
        "total_train"
      ],
      "execution_count": 103,
      "outputs": [
        {
          "output_type": "execute_result",
          "data": {
            "text/plain": [
              "524"
            ]
          },
          "metadata": {
            "tags": []
          },
          "execution_count": 103
        }
      ]
    },
    {
      "cell_type": "code",
      "metadata": {
        "id": "OEwWnXaiDtS3",
        "colab_type": "code",
        "colab": {
          "base_uri": "https://localhost:8080/",
          "height": 1000
        },
        "outputId": "14d78c0a-1c9e-4844-e7d2-bacf0f1072ec"
      },
      "source": [
        "results = model.fit_generator(\n",
        "    train_generator,\n",
        "    steps_per_epoch= total_train // batch_size,\n",
        "    epochs=epochs,\n",
        "    validation_data=val_data_gen,\n",
        "    validation_steps=total_val // batch_size\n",
        ")"
      ],
      "execution_count": 107,
      "outputs": [
        {
          "output_type": "stream",
          "text": [
            "Epoch 1/50\n",
            "32/32 [==============================] - 7s 207ms/step - loss: 7.8529 - accuracy: 0.4850 - val_loss: 5.1120 - val_accuracy: 0.6648\n",
            "Epoch 2/50\n",
            "32/32 [==============================] - 7s 205ms/step - loss: 7.8833 - accuracy: 0.4830 - val_loss: 5.4585 - val_accuracy: 0.6420\n",
            "Epoch 3/50\n",
            "32/32 [==============================] - 7s 206ms/step - loss: 7.8529 - accuracy: 0.4850 - val_loss: 5.4585 - val_accuracy: 0.6420\n",
            "Epoch 4/50\n",
            "32/32 [==============================] - 7s 209ms/step - loss: 7.8225 - accuracy: 0.4870 - val_loss: 5.2852 - val_accuracy: 0.6534\n",
            "Epoch 5/50\n",
            "32/32 [==============================] - 7s 208ms/step - loss: 7.7616 - accuracy: 0.4910 - val_loss: 5.2852 - val_accuracy: 0.6534\n",
            "Epoch 6/50\n",
            "32/32 [==============================] - 7s 208ms/step - loss: 7.9138 - accuracy: 0.4810 - val_loss: 5.2852 - val_accuracy: 0.6534\n",
            "Epoch 7/50\n",
            "32/32 [==============================] - 7s 205ms/step - loss: 7.9442 - accuracy: 0.4790 - val_loss: 5.1986 - val_accuracy: 0.6591\n",
            "Epoch 8/50\n",
            "32/32 [==============================] - 7s 209ms/step - loss: 7.8833 - accuracy: 0.4830 - val_loss: 5.1120 - val_accuracy: 0.6648\n",
            "Epoch 9/50\n",
            "32/32 [==============================] - 7s 212ms/step - loss: 7.7140 - accuracy: 0.4941 - val_loss: 5.1986 - val_accuracy: 0.6591\n",
            "Epoch 10/50\n",
            "32/32 [==============================] - 7s 212ms/step - loss: 7.8529 - accuracy: 0.4850 - val_loss: 5.1986 - val_accuracy: 0.6591\n",
            "Epoch 11/50\n",
            "32/32 [==============================] - 7s 207ms/step - loss: 7.9442 - accuracy: 0.4790 - val_loss: 5.1120 - val_accuracy: 0.6648\n",
            "Epoch 12/50\n",
            "32/32 [==============================] - 7s 206ms/step - loss: 7.7920 - accuracy: 0.4890 - val_loss: 5.3719 - val_accuracy: 0.6477\n",
            "Epoch 13/50\n",
            "32/32 [==============================] - 7s 208ms/step - loss: 7.9138 - accuracy: 0.4810 - val_loss: 5.0253 - val_accuracy: 0.6705\n",
            "Epoch 14/50\n",
            "32/32 [==============================] - 7s 207ms/step - loss: 7.9138 - accuracy: 0.4810 - val_loss: 5.6318 - val_accuracy: 0.6307\n",
            "Epoch 15/50\n",
            "32/32 [==============================] - 7s 209ms/step - loss: 7.7007 - accuracy: 0.4950 - val_loss: 5.1120 - val_accuracy: 0.6648\n",
            "Epoch 16/50\n",
            "32/32 [==============================] - 7s 209ms/step - loss: 7.8833 - accuracy: 0.4830 - val_loss: 4.8520 - val_accuracy: 0.6818\n",
            "Epoch 17/50\n",
            "32/32 [==============================] - 7s 208ms/step - loss: 7.9138 - accuracy: 0.4810 - val_loss: 4.9387 - val_accuracy: 0.6761\n",
            "Epoch 18/50\n",
            "32/32 [==============================] - 7s 208ms/step - loss: 7.8833 - accuracy: 0.4830 - val_loss: 5.1120 - val_accuracy: 0.6648\n",
            "Epoch 19/50\n",
            "32/32 [==============================] - 7s 208ms/step - loss: 7.8529 - accuracy: 0.4850 - val_loss: 5.1120 - val_accuracy: 0.6648\n",
            "Epoch 20/50\n",
            "32/32 [==============================] - 7s 212ms/step - loss: 7.7920 - accuracy: 0.4890 - val_loss: 5.1120 - val_accuracy: 0.6648\n",
            "Epoch 21/50\n",
            "32/32 [==============================] - 7s 206ms/step - loss: 7.7616 - accuracy: 0.4910 - val_loss: 5.1120 - val_accuracy: 0.6648\n",
            "Epoch 22/50\n",
            "32/32 [==============================] - 7s 206ms/step - loss: 8.0051 - accuracy: 0.4750 - val_loss: 5.4585 - val_accuracy: 0.6420\n",
            "Epoch 23/50\n",
            "32/32 [==============================] - 7s 207ms/step - loss: 7.8529 - accuracy: 0.4850 - val_loss: 5.1120 - val_accuracy: 0.6648\n",
            "Epoch 24/50\n",
            "32/32 [==============================] - 7s 207ms/step - loss: 7.8225 - accuracy: 0.4870 - val_loss: 5.3719 - val_accuracy: 0.6477\n",
            "Epoch 25/50\n",
            "32/32 [==============================] - 7s 207ms/step - loss: 8.0051 - accuracy: 0.4750 - val_loss: 5.4585 - val_accuracy: 0.6420\n",
            "Epoch 26/50\n",
            "32/32 [==============================] - 7s 206ms/step - loss: 7.9138 - accuracy: 0.4810 - val_loss: 5.3719 - val_accuracy: 0.6477\n",
            "Epoch 27/50\n",
            "32/32 [==============================] - 7s 208ms/step - loss: 7.8225 - accuracy: 0.4870 - val_loss: 5.0253 - val_accuracy: 0.6705\n",
            "Epoch 28/50\n",
            "32/32 [==============================] - 7s 211ms/step - loss: 7.8529 - accuracy: 0.4850 - val_loss: 5.3719 - val_accuracy: 0.6477\n",
            "Epoch 29/50\n",
            "32/32 [==============================] - 7s 207ms/step - loss: 7.9138 - accuracy: 0.4810 - val_loss: 5.1986 - val_accuracy: 0.6591\n",
            "Epoch 30/50\n",
            "32/32 [==============================] - 7s 206ms/step - loss: 7.8225 - accuracy: 0.4870 - val_loss: 5.1986 - val_accuracy: 0.6591\n",
            "Epoch 31/50\n",
            "32/32 [==============================] - 7s 208ms/step - loss: 7.7920 - accuracy: 0.4890 - val_loss: 5.1986 - val_accuracy: 0.6591\n",
            "Epoch 32/50\n",
            "32/32 [==============================] - 7s 205ms/step - loss: 7.8833 - accuracy: 0.4830 - val_loss: 5.0253 - val_accuracy: 0.6705\n",
            "Epoch 33/50\n",
            "32/32 [==============================] - 7s 205ms/step - loss: 7.9138 - accuracy: 0.4810 - val_loss: 5.3719 - val_accuracy: 0.6477\n",
            "Epoch 34/50\n",
            "32/32 [==============================] - 7s 211ms/step - loss: 7.8629 - accuracy: 0.4844 - val_loss: 5.2852 - val_accuracy: 0.6534\n",
            "Epoch 35/50\n",
            "32/32 [==============================] - 7s 210ms/step - loss: 7.8529 - accuracy: 0.4850 - val_loss: 5.2852 - val_accuracy: 0.6534\n",
            "Epoch 36/50\n",
            "32/32 [==============================] - 7s 206ms/step - loss: 7.7312 - accuracy: 0.4930 - val_loss: 5.4585 - val_accuracy: 0.6420\n",
            "Epoch 37/50\n",
            "32/32 [==============================] - 7s 204ms/step - loss: 7.8225 - accuracy: 0.4870 - val_loss: 5.4585 - val_accuracy: 0.6420\n",
            "Epoch 38/50\n",
            "32/32 [==============================] - 7s 204ms/step - loss: 7.9138 - accuracy: 0.4810 - val_loss: 5.0253 - val_accuracy: 0.6705\n",
            "Epoch 39/50\n",
            "32/32 [==============================] - 7s 205ms/step - loss: 7.8529 - accuracy: 0.4850 - val_loss: 5.1120 - val_accuracy: 0.6648\n",
            "Epoch 40/50\n",
            "32/32 [==============================] - 7s 207ms/step - loss: 7.8529 - accuracy: 0.4850 - val_loss: 5.4585 - val_accuracy: 0.6420\n",
            "Epoch 41/50\n",
            "32/32 [==============================] - 7s 203ms/step - loss: 7.7920 - accuracy: 0.4890 - val_loss: 5.2852 - val_accuracy: 0.6534\n",
            "Epoch 42/50\n",
            "32/32 [==============================] - 7s 204ms/step - loss: 7.9747 - accuracy: 0.4770 - val_loss: 5.1120 - val_accuracy: 0.6648\n",
            "Epoch 43/50\n",
            "32/32 [==============================] - 6s 202ms/step - loss: 8.0355 - accuracy: 0.4731 - val_loss: 5.4585 - val_accuracy: 0.6420\n",
            "Epoch 44/50\n",
            "32/32 [==============================] - 6s 203ms/step - loss: 7.7920 - accuracy: 0.4890 - val_loss: 5.1986 - val_accuracy: 0.6591\n",
            "Epoch 45/50\n",
            "32/32 [==============================] - 7s 206ms/step - loss: 7.8529 - accuracy: 0.4850 - val_loss: 5.3719 - val_accuracy: 0.6477\n",
            "Epoch 46/50\n",
            "32/32 [==============================] - 7s 204ms/step - loss: 7.8529 - accuracy: 0.4850 - val_loss: 5.1986 - val_accuracy: 0.6591\n",
            "Epoch 47/50\n",
            "32/32 [==============================] - 6s 203ms/step - loss: 7.9442 - accuracy: 0.4790 - val_loss: 4.7654 - val_accuracy: 0.6875\n",
            "Epoch 48/50\n",
            "32/32 [==============================] - 6s 203ms/step - loss: 7.7007 - accuracy: 0.4950 - val_loss: 5.3719 - val_accuracy: 0.6477\n",
            "Epoch 49/50\n",
            "32/32 [==============================] - 6s 202ms/step - loss: 7.9442 - accuracy: 0.4790 - val_loss: 5.1120 - val_accuracy: 0.6648\n",
            "Epoch 50/50\n",
            "32/32 [==============================] - 6s 203ms/step - loss: 7.8225 - accuracy: 0.4870 - val_loss: 5.1120 - val_accuracy: 0.6648\n"
          ],
          "name": "stdout"
        }
      ]
    },
    {
      "cell_type": "markdown",
      "metadata": {
        "colab_type": "text",
        "id": "uT3UV3gap9H6"
      },
      "source": [
        "# Resources and Stretch Goals\n",
        "\n",
        "Stretch goals\n",
        "- Enhance your code to use classes/functions and accept terms to search and classes to look for in recognizing the downloaded images (e.g. download images of parties, recognize all that contain balloons)\n",
        "- Check out [other available pretrained networks](https://tfhub.dev), try some and compare\n",
        "- Image recognition/classification is somewhat solved, but *relationships* between entities and describing an image is not - check out some of the extended resources (e.g. [Visual Genome](https://visualgenome.org/)) on the topic\n",
        "- Transfer learning - using images you source yourself, [retrain a classifier](https://www.tensorflow.org/hub/tutorials/image_retraining) with a new category\n",
        "- (Not CNN related) Use [piexif](https://pypi.org/project/piexif/) to check out the metadata of images passed in to your system - see if they're from a national park! (Note - many images lack GPS metadata, so this won't work in most cases, but still cool)\n",
        "\n",
        "Resources\n",
        "- [Deep Residual Learning for Image Recognition](https://arxiv.org/abs/1512.03385) - influential paper (introduced ResNet)\n",
        "- [YOLO: Real-Time Object Detection](https://pjreddie.com/darknet/yolo/) - an influential convolution based object detection system, focused on inference speed (for applications to e.g. self driving vehicles)\n",
        "- [R-CNN, Fast R-CNN, Faster R-CNN, YOLO](https://towardsdatascience.com/r-cnn-fast-r-cnn-faster-r-cnn-yolo-object-detection-algorithms-36d53571365e) - comparison of object detection systems\n",
        "- [Common Objects in Context](http://cocodataset.org/) - a large-scale object detection, segmentation, and captioning dataset\n",
        "- [Visual Genome](https://visualgenome.org/) - a dataset, a knowledge base, an ongoing effort to connect structured image concepts to language"
      ]
    }
  ]
}