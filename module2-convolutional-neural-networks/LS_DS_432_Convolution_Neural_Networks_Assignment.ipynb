{
  "nbformat": 4,
  "nbformat_minor": 0,
  "metadata": {
    "kernelspec": {
      "display_name": "U4-S2-NNF-DS10",
      "language": "python",
      "name": "u4-s2-nnf-ds10"
    },
    "language_info": {
      "codemirror_mode": {
        "name": "ipython",
        "version": 3
      },
      "file_extension": ".py",
      "mimetype": "text/x-python",
      "name": "python",
      "nbconvert_exporter": "python",
      "pygments_lexer": "ipython3",
      "version": "3.7.6"
    },
    "nteract": {
      "version": "0.23.1"
    },
    "colab": {
      "name": "LS_DS_432_Convolution_Neural_Networks_Assignment.ipynb",
      "provenance": []
    },
    "accelerator": "GPU"
  },
  "cells": [
    {
      "cell_type": "markdown",
      "metadata": {
        "id": "6UljOl-rXq2t",
        "colab_type": "text"
      },
      "source": [
        "<img align=\"left\" src=\"https://lever-client-logos.s3.amazonaws.com/864372b1-534c-480e-acd5-9711f850815c-1524247202159.png\" width=200>\n",
        "<br></br>\n",
        "<br></br>\n",
        "\n",
        "## *Data Science Unit 4 Sprint 3 Assignment 2*\n",
        "# Convolutional Neural Networks (CNNs)"
      ]
    },
    {
      "cell_type": "markdown",
      "metadata": {
        "colab_type": "text",
        "id": "0lfZdD_cp1t5"
      },
      "source": [
        "# Assignment\n",
        "\n",
        "- <a href=\"#p1\">Part 1:</a> Pre-Trained Model\n",
        "- <a href=\"#p2\">Part 2:</a> Custom CNN Model\n",
        "- <a href=\"#p3\">Part 3:</a> CNN with Data Augmentation\n",
        "\n",
        "\n",
        "You will apply three different CNN models to a binary image classification model using Keras. Classify images of Mountains (`./data/train/mountain/*`) and images of forests (`./data/train/forest/*`). Treat mountains as the positive class (1) and the forest images as the negative (zero). \n",
        "\n",
        "|Mountain (+)|Forest (-)|\n",
        "|---|---|\n",
        "|![](https://github.com/zachary-hamilton/DS-Unit-4-Sprint-3-Deep-Learning/blob/main/module2-convolutional-neural-networks/data/train/mountain/art1131.jpg?raw=1)|![](https://github.com/zachary-hamilton/DS-Unit-4-Sprint-3-Deep-Learning/blob/main/module2-convolutional-neural-networks/data/validation/forest/cdmc317.jpg?raw=1)|\n",
        "\n",
        "The problem is relatively difficult given that the sample is tiny: there are about 350 observations per class. This sample size might be something that you can expect with prototyping an image classification problem/solution at work. Get accustomed to evaluating several different possible models."
      ]
    },
    {
      "cell_type": "markdown",
      "metadata": {
        "colab_type": "text",
        "id": "eynjdzh2Xq2w"
      },
      "source": [
        "# Pre - Trained Model\n",
        "<a id=\"p1\"></a>\n",
        "\n",
        "Load a pretrained network from Keras, [ResNet50](https://tfhub.dev/google/imagenet/resnet_v1_50/classification/1) - a 50 layer deep network trained to recognize [1000 objects](https://storage.googleapis.com/download.tensorflow.org/data/ImageNetLabels.txt). Starting usage:\n",
        "\n",
        "```python\n",
        "import numpy as np\n",
        "\n",
        "from tensorflow.keras.applications.resnet50 import ResNet50\n",
        "from tensorflow.keras.preprocessing import image\n",
        "from tensorflow.keras.applications.resnet50 import preprocess_input, decode_predictions\n",
        "\n",
        "from tensorflow.keras.layers import Dense, GlobalAveragePooling2D\n",
        "from tensorflow.keras.models import Model # This is the functional API\n",
        "\n",
        "resnet = ResNet50(weights='imagenet', include_top=False)\n",
        "\n",
        "```\n",
        "\n",
        "The `include_top` parameter in `ResNet50` will remove the full connected layers from the ResNet model. The next step is to turn off the training of the ResNet layers. We want to use the learned parameters without updating them in future training passes. \n",
        "\n",
        "```python\n",
        "for layer in resnet.layers:\n",
        "    layer.trainable = False\n",
        "```\n",
        "\n",
        "Using the Keras functional API, we will need to additional additional full connected layers to our model. We we removed the top layers, we removed all preivous fully connected layers. In other words, we kept only the feature processing portions of our network. You can expert with additional layers beyond what's listed here. The `GlobalAveragePooling2D` layer functions as a really fancy flatten function by taking the average of each of the last convolutional layer outputs (which is two dimensional still). \n",
        "\n",
        "```python\n",
        "x = resnet.output\n",
        "x = GlobalAveragePooling2D()(x) # This layer is a really fancy flatten\n",
        "x = Dense(1024, activation='relu')(x)\n",
        "predictions = Dense(1, activation='sigmoid')(x)\n",
        "model = Model(resnet.input, predictions)\n",
        "```\n",
        "\n",
        "Your assignment is to apply the transfer learning above to classify images of Mountains (`./data/train/mountain/*`) and images of forests (`./data/train/forest/*`). Treat mountains as the positive class (1) and the forest images as the negative (zero). \n",
        "\n",
        "Steps to complete assignment: \n",
        "1. Load in Image Data into numpy arrays (`X`) \n",
        "2. Create a `y` for the labels\n",
        "3. Train your model with pre-trained layers from resnet\n",
        "4. Report your model's accuracy"
      ]
    },
    {
      "cell_type": "code",
      "metadata": {
        "id": "FiRnjd1nX7EH",
        "colab_type": "code",
        "colab": {}
      },
      "source": [
        "# imports\n",
        "import tensorflow as tf\n",
        "import os\n",
        "from tensorflow.keras.preprocessing.image import ImageDataGenerator\n",
        "\n",
        "import numpy as np\n",
        " \n",
        "from tensorflow.keras.applications.resnet50 import ResNet50\n",
        "from tensorflow.keras.preprocessing import image\n",
        "from tensorflow.keras.applications.resnet50 import preprocess_input, decode_predictions\n",
        " \n",
        "from tensorflow.keras.layers import Dense, GlobalAveragePooling2D\n",
        "from tensorflow.keras.models import Model # This is the functional API\n",
        " \n",
        "resnet = ResNet50(weights='imagenet', include_top=False)"
      ],
      "execution_count": 70,
      "outputs": []
    },
    {
      "cell_type": "markdown",
      "metadata": {
        "id": "60qTdSTqXq2z",
        "colab_type": "text"
      },
      "source": [
        "## Load in Data\n",
        "\n",
        "This surprisingly more difficult than it seems, because you are working with directories of images instead of a single file. This boiler plate will help you download a zipped version of the directory of images. The directory is organized into \"train\" and \"validation\" which you can use inside an `ImageGenerator` class to stream batches of images thru your model.  \n"
      ]
    },
    {
      "cell_type": "markdown",
      "metadata": {
        "id": "5tBCV5rNXq20",
        "colab_type": "text"
      },
      "source": [
        "### Download & Summarize the Data\n",
        "\n",
        "This step is completed for you. Just run the cells and review the results. "
      ]
    },
    {
      "cell_type": "code",
      "metadata": {
        "id": "c-ck4tmKXq22",
        "colab_type": "code",
        "colab": {}
      },
      "source": [
        "_URL = 'https://github.com/LambdaSchool/DS-Unit-4-Sprint-3-Deep-Learning/blob/master/module2-convolutional-neural-networks/data.zip?raw=true'\n",
        "\n",
        "path_to_zip = tf.keras.utils.get_file('./data.zip', origin=_URL, extract=True)\n",
        "PATH = os.path.join(os.path.dirname(path_to_zip), 'data')"
      ],
      "execution_count": 53,
      "outputs": []
    },
    {
      "cell_type": "code",
      "metadata": {
        "id": "xM0HF8f3Xq3H",
        "colab_type": "code",
        "colab": {}
      },
      "source": [
        "train_dir = os.path.join(PATH, 'train')\n",
        "validation_dir = os.path.join(PATH, 'validation')"
      ],
      "execution_count": 54,
      "outputs": []
    },
    {
      "cell_type": "code",
      "metadata": {
        "id": "9numLDyGXq3M",
        "colab_type": "code",
        "colab": {}
      },
      "source": [
        "train_mountain_dir = os.path.join(train_dir, 'mountain')  # directory with our training mountain pictures\n",
        "train_forest_dir = os.path.join(train_dir, 'forest')  # directory with our training forest pictures\n",
        "validation_mountain_dir = os.path.join(validation_dir, 'mountain')  # directory with our validation mountain pictures\n",
        "validation_forest_dir = os.path.join(validation_dir, 'forest')  # directory with our validation forest pictures"
      ],
      "execution_count": 56,
      "outputs": []
    },
    {
      "cell_type": "code",
      "metadata": {
        "id": "BYFoCD7KXq3R",
        "colab_type": "code",
        "colab": {}
      },
      "source": [
        "num_mountain_tr = len(os.listdir(train_mountain_dir))\n",
        "num_forest_tr = len(os.listdir(train_forest_dir))\n",
        "\n",
        "num_mountain_val = len(os.listdir(validation_mountain_dir))\n",
        "num_forest_val = len(os.listdir(validation_forest_dir))\n",
        "\n",
        "total_train = num_mountain_tr + num_forest_tr\n",
        "total_val = num_mountain_val + num_forest_val"
      ],
      "execution_count": 57,
      "outputs": []
    },
    {
      "cell_type": "code",
      "metadata": {
        "id": "RNBoW6pkXq3f",
        "colab_type": "code",
        "colab": {
          "base_uri": "https://localhost:8080/",
          "height": 136
        },
        "outputId": "aea5ad2e-289f-4625-c9ce-f5f87dc374b6"
      },
      "source": [
        "print('total training mountain images:', num_mountain_tr)\n",
        "print('total training forest images:', num_forest_tr)\n",
        "\n",
        "print('total validation mountain images:', num_mountain_val)\n",
        "print('total validation forest images:', num_forest_val)\n",
        "print(\"--\")\n",
        "print(\"Total training images:\", total_train)\n",
        "print(\"Total validation images:\", total_val)"
      ],
      "execution_count": 58,
      "outputs": [
        {
          "output_type": "stream",
          "text": [
            "total training mountain images: 254\n",
            "total training forest images: 270\n",
            "total validation mountain images: 125\n",
            "total validation forest images: 62\n",
            "--\n",
            "Total training images: 524\n",
            "Total validation images: 187\n"
          ],
          "name": "stdout"
        }
      ]
    },
    {
      "cell_type": "markdown",
      "metadata": {
        "id": "e0Tc8BCRXq3l",
        "colab_type": "text"
      },
      "source": [
        "### Keras `ImageGenerator` to Process the Data\n",
        "\n",
        "This step is completed for you, but please review the code. The `ImageGenerator` class reads in batches of data from a directory and pass them to the model one batch at a time. Just like large text files, this method is advantageous, because it stifles the need to load a bunch of images into memory. \n",
        "\n",
        "Check out the documentation for this class method: [Keras `ImageGenerator` Class](https://keras.io/preprocessing/image/#imagedatagenerator-class). You'll expand it's use in the third assignment objective."
      ]
    },
    {
      "cell_type": "code",
      "metadata": {
        "id": "4ClJcT0QXq3m",
        "colab_type": "code",
        "colab": {}
      },
      "source": [
        "batch_size = 16\n",
        "epochs = 50\n",
        "IMG_HEIGHT = 224\n",
        "IMG_WIDTH = 224"
      ],
      "execution_count": 59,
      "outputs": []
    },
    {
      "cell_type": "code",
      "metadata": {
        "id": "Va1P93rpXq3v",
        "colab_type": "code",
        "colab": {}
      },
      "source": [
        "train_image_generator = ImageDataGenerator(rescale=1./255) # Generator for our training data\n",
        "validation_image_generator = ImageDataGenerator(rescale=1./255) # Generator for our validation data"
      ],
      "execution_count": 61,
      "outputs": []
    },
    {
      "cell_type": "code",
      "metadata": {
        "id": "9VrZU2RkXq31",
        "colab_type": "code",
        "colab": {
          "base_uri": "https://localhost:8080/",
          "height": 34
        },
        "outputId": "6e6accb5-ce89-4b6a-8404-b0b176c7ab59"
      },
      "source": [
        "train_data_gen = train_image_generator.flow_from_directory(batch_size=batch_size,\n",
        "                                                           directory=train_dir,\n",
        "                                                           shuffle=True,\n",
        "                                                           target_size=(IMG_HEIGHT, IMG_WIDTH),\n",
        "                                                           class_mode='binary')"
      ],
      "execution_count": 62,
      "outputs": [
        {
          "output_type": "stream",
          "text": [
            "Found 533 images belonging to 2 classes.\n"
          ],
          "name": "stdout"
        }
      ]
    },
    {
      "cell_type": "code",
      "metadata": {
        "id": "hnZpfNPcXq36",
        "colab_type": "code",
        "colab": {
          "base_uri": "https://localhost:8080/",
          "height": 34
        },
        "outputId": "ca1c1d1e-e0e4-4872-85ef-7c080a70f138"
      },
      "source": [
        "val_data_gen = validation_image_generator.flow_from_directory(batch_size=batch_size,\n",
        "                                                              directory=validation_dir,\n",
        "                                                              target_size=(IMG_HEIGHT, IMG_WIDTH),\n",
        "                                                              class_mode='binary')"
      ],
      "execution_count": 63,
      "outputs": [
        {
          "output_type": "stream",
          "text": [
            "Found 195 images belonging to 2 classes.\n"
          ],
          "name": "stdout"
        }
      ]
    },
    {
      "cell_type": "code",
      "metadata": {
        "id": "Heg2aT9UZAFu",
        "colab_type": "code",
        "colab": {
          "base_uri": "https://localhost:8080/",
          "height": 1000
        },
        "outputId": "c7a4320f-9ecb-4115-d015-fe6ff08c94c9"
      },
      "source": [
        "val_data_gen[0][0]"
      ],
      "execution_count": 76,
      "outputs": [
        {
          "output_type": "execute_result",
          "data": {
            "text/plain": [
              "array([[[[0.06666667, 0.1137255 , 0.1137255 ],\n",
              "         [0.12156864, 0.13333334, 0.19215688],\n",
              "         [0.03921569, 0.05490196, 0.09803922],\n",
              "         ...,\n",
              "         [0.02745098, 0.03529412, 0.02352941],\n",
              "         [0.01960784, 0.02745098, 0.01568628],\n",
              "         [0.01960784, 0.01960784, 0.01960784]],\n",
              "\n",
              "        [[0.09019608, 0.13725491, 0.18431373],\n",
              "         [0.30588236, 0.34509805, 0.48235297],\n",
              "         [0.28627452, 0.3137255 , 0.42352945],\n",
              "         ...,\n",
              "         [0.02352941, 0.02352941, 0.03137255],\n",
              "         [0.02745098, 0.02745098, 0.03529412],\n",
              "         [0.01568628, 0.01568628, 0.02352941]],\n",
              "\n",
              "        [[0.01960784, 0.03921569, 0.05490196],\n",
              "         [0.15294118, 0.21176472, 0.28627452],\n",
              "         [0.29803923, 0.34901962, 0.48627454],\n",
              "         ...,\n",
              "         [0.01176471, 0.02745098, 0.02352941],\n",
              "         [0.02352941, 0.03137255, 0.02745098],\n",
              "         [0.01176471, 0.01960784, 0.00784314]],\n",
              "\n",
              "        ...,\n",
              "\n",
              "        [[0.54509807, 0.53333336, 0.45882356],\n",
              "         [0.6392157 , 0.627451  , 0.5529412 ],\n",
              "         [0.60784316, 0.5882353 , 0.50980395],\n",
              "         ...,\n",
              "         [0.5137255 , 0.5019608 , 0.427451  ],\n",
              "         [0.45098042, 0.43921572, 0.37254903],\n",
              "         [0.20392159, 0.19215688, 0.17254902]],\n",
              "\n",
              "        [[0.54901963, 0.5411765 , 0.45098042],\n",
              "         [0.7058824 , 0.68235296, 0.59607846],\n",
              "         [0.5764706 , 0.56078434, 0.454902  ],\n",
              "         ...,\n",
              "         [0.47450984, 0.46274513, 0.39607847],\n",
              "         [0.5529412 , 0.5411765 , 0.47450984],\n",
              "         [0.2509804 , 0.2392157 , 0.20392159]],\n",
              "\n",
              "        [[0.6039216 , 0.58431375, 0.5058824 ],\n",
              "         [0.5921569 , 0.5882353 , 0.4784314 ],\n",
              "         [0.5529412 , 0.5411765 , 0.41960788],\n",
              "         ...,\n",
              "         [0.427451  , 0.41960788, 0.36078432],\n",
              "         [0.4784314 , 0.47058827, 0.41176474],\n",
              "         [0.2392157 , 0.227451  , 0.20000002]]],\n",
              "\n",
              "\n",
              "       [[[0.0627451 , 0.04705883, 0.03529412],\n",
              "         [0.03137255, 0.01568628, 0.00392157],\n",
              "         [0.02352941, 0.00784314, 0.        ],\n",
              "         ...,\n",
              "         [0.03137255, 0.04313726, 0.01568628],\n",
              "         [0.        , 0.00784314, 0.        ],\n",
              "         [0.03529412, 0.04705883, 0.01960784]],\n",
              "\n",
              "        [[0.01176471, 0.        , 0.        ],\n",
              "         [0.03137255, 0.01960784, 0.        ],\n",
              "         [0.04705883, 0.03529412, 0.        ],\n",
              "         ...,\n",
              "         [0.03137255, 0.03137255, 0.        ],\n",
              "         [0.01176471, 0.01176471, 0.        ],\n",
              "         [0.03137255, 0.03137255, 0.        ]],\n",
              "\n",
              "        [[0.21176472, 0.20000002, 0.14117648],\n",
              "         [0.14901961, 0.13725491, 0.07843138],\n",
              "         [0.11764707, 0.10588236, 0.04705883],\n",
              "         ...,\n",
              "         [0.14901961, 0.1254902 , 0.0627451 ],\n",
              "         [0.1137255 , 0.09411766, 0.01960784],\n",
              "         [0.15686275, 0.13725491, 0.0627451 ]],\n",
              "\n",
              "        ...,\n",
              "\n",
              "        [[0.20784315, 0.20392159, 0.09411766],\n",
              "         [0.21960786, 0.21176472, 0.1137255 ],\n",
              "         [0.25882354, 0.2509804 , 0.16078432],\n",
              "         ...,\n",
              "         [0.23529413, 0.20784315, 0.13725491],\n",
              "         [0.2392157 , 0.21176472, 0.14117648],\n",
              "         [0.2784314 , 0.2509804 , 0.1764706 ]],\n",
              "\n",
              "        [[0.01568628, 0.00784314, 0.        ],\n",
              "         [0.04705883, 0.03529412, 0.        ],\n",
              "         [0.05882353, 0.04705883, 0.        ],\n",
              "         ...,\n",
              "         [0.08627451, 0.05490196, 0.04313726],\n",
              "         [0.04313726, 0.01568628, 0.        ],\n",
              "         [0.04313726, 0.01568628, 0.        ]],\n",
              "\n",
              "        [[0.04705883, 0.03529412, 0.        ],\n",
              "         [0.04705883, 0.03529412, 0.        ],\n",
              "         [0.01568628, 0.        , 0.        ],\n",
              "         ...,\n",
              "         [0.03529412, 0.01176471, 0.01960784],\n",
              "         [0.03529412, 0.01176471, 0.01960784],\n",
              "         [0.05490196, 0.03137255, 0.03137255]]],\n",
              "\n",
              "\n",
              "       [[[0.38431376, 0.44705886, 0.5058824 ],\n",
              "         [0.38431376, 0.44705886, 0.5058824 ],\n",
              "         [0.38431376, 0.44705886, 0.5058824 ],\n",
              "         ...,\n",
              "         [0.3372549 , 0.40000004, 0.45098042],\n",
              "         [0.33333334, 0.39607847, 0.44705886],\n",
              "         [0.33333334, 0.39607847, 0.44705886]],\n",
              "\n",
              "        [[0.38431376, 0.44705886, 0.5058824 ],\n",
              "         [0.38431376, 0.44705886, 0.5058824 ],\n",
              "         [0.38431376, 0.44705886, 0.5058824 ],\n",
              "         ...,\n",
              "         [0.3372549 , 0.40000004, 0.45098042],\n",
              "         [0.3372549 , 0.40000004, 0.45098042],\n",
              "         [0.3372549 , 0.40000004, 0.45098042]],\n",
              "\n",
              "        [[0.38823533, 0.45098042, 0.50980395],\n",
              "         [0.38823533, 0.45098042, 0.50980395],\n",
              "         [0.39607847, 0.44705886, 0.50980395],\n",
              "         ...,\n",
              "         [0.3372549 , 0.40784317, 0.454902  ],\n",
              "         [0.34117648, 0.4039216 , 0.454902  ],\n",
              "         [0.3372549 , 0.40000004, 0.45098042]],\n",
              "\n",
              "        ...,\n",
              "\n",
              "        [[0.30588236, 0.2627451 , 0.08235294],\n",
              "         [0.32156864, 0.27058825, 0.09411766],\n",
              "         [0.3137255 , 0.25882354, 0.07450981],\n",
              "         ...,\n",
              "         [0.0627451 , 0.03921569, 0.05490196],\n",
              "         [0.0627451 , 0.03921569, 0.05490196],\n",
              "         [0.0627451 , 0.03921569, 0.05490196]],\n",
              "\n",
              "        [[0.32156864, 0.2901961 , 0.09803922],\n",
              "         [0.3137255 , 0.27450982, 0.08235294],\n",
              "         [0.32941177, 0.28235295, 0.08627451],\n",
              "         ...,\n",
              "         [0.0627451 , 0.03921569, 0.05490196],\n",
              "         [0.0627451 , 0.03921569, 0.05490196],\n",
              "         [0.0627451 , 0.03921569, 0.05490196]],\n",
              "\n",
              "        [[0.45098042, 0.427451  , 0.23137257],\n",
              "         [0.4156863 , 0.38431376, 0.19215688],\n",
              "         [0.4431373 , 0.39607847, 0.20000002],\n",
              "         ...,\n",
              "         [0.0627451 , 0.03921569, 0.05490196],\n",
              "         [0.0627451 , 0.03921569, 0.05490196],\n",
              "         [0.0627451 , 0.03921569, 0.05490196]]],\n",
              "\n",
              "\n",
              "       ...,\n",
              "\n",
              "\n",
              "       [[[0.8745099 , 0.8745099 , 0.8745099 ],\n",
              "         [0.8745099 , 0.8745099 , 0.8745099 ],\n",
              "         [0.8745099 , 0.8745099 , 0.8745099 ],\n",
              "         ...,\n",
              "         [0.7843138 , 0.7725491 , 0.8000001 ],\n",
              "         [0.7960785 , 0.7843138 , 0.8117648 ],\n",
              "         [0.80392164, 0.79215693, 0.8352942 ]],\n",
              "\n",
              "        [[0.8745099 , 0.8745099 , 0.8745099 ],\n",
              "         [0.8745099 , 0.8745099 , 0.8745099 ],\n",
              "         [0.8745099 , 0.8745099 , 0.8745099 ],\n",
              "         ...,\n",
              "         [0.7843138 , 0.7725491 , 0.8078432 ],\n",
              "         [0.78823537, 0.77647066, 0.8117648 ],\n",
              "         [0.7960785 , 0.7843138 , 0.8196079 ]],\n",
              "\n",
              "        [[0.87843144, 0.87843144, 0.87843144],\n",
              "         [0.87843144, 0.87843144, 0.87843144],\n",
              "         [0.87843144, 0.87843144, 0.87843144],\n",
              "         ...,\n",
              "         [0.78823537, 0.77647066, 0.8196079 ],\n",
              "         [0.7843138 , 0.7725491 , 0.81568635],\n",
              "         [0.7843138 , 0.7725491 , 0.8078432 ]],\n",
              "\n",
              "        ...,\n",
              "\n",
              "        [[0.00784314, 0.00784314, 0.00784314],\n",
              "         [0.00784314, 0.00784314, 0.00784314],\n",
              "         [0.00784314, 0.00784314, 0.00784314],\n",
              "         ...,\n",
              "         [0.00784314, 0.00784314, 0.00784314],\n",
              "         [0.00784314, 0.00784314, 0.00784314],\n",
              "         [0.00784314, 0.00784314, 0.00784314]],\n",
              "\n",
              "        [[0.00784314, 0.00784314, 0.00784314],\n",
              "         [0.00784314, 0.00784314, 0.00784314],\n",
              "         [0.00784314, 0.00784314, 0.00784314],\n",
              "         ...,\n",
              "         [0.00784314, 0.00784314, 0.00784314],\n",
              "         [0.00784314, 0.00784314, 0.00784314],\n",
              "         [0.00784314, 0.00784314, 0.00784314]],\n",
              "\n",
              "        [[0.00784314, 0.00784314, 0.00784314],\n",
              "         [0.00784314, 0.00784314, 0.00784314],\n",
              "         [0.00784314, 0.00784314, 0.00784314],\n",
              "         ...,\n",
              "         [0.00784314, 0.00784314, 0.00784314],\n",
              "         [0.00784314, 0.00784314, 0.00784314],\n",
              "         [0.00784314, 0.00784314, 0.00784314]]],\n",
              "\n",
              "\n",
              "       [[[0.01176471, 0.10588236, 0.20000002],\n",
              "         [0.01176471, 0.10588236, 0.20000002],\n",
              "         [0.01176471, 0.10588236, 0.20000002],\n",
              "         ...,\n",
              "         [0.01568628, 0.04705883, 0.12941177],\n",
              "         [0.01568628, 0.04705883, 0.12941177],\n",
              "         [0.01568628, 0.04705883, 0.12941177]],\n",
              "\n",
              "        [[0.01176471, 0.10588236, 0.20000002],\n",
              "         [0.01176471, 0.10588236, 0.20000002],\n",
              "         [0.01176471, 0.10588236, 0.20000002],\n",
              "         ...,\n",
              "         [0.01568628, 0.04705883, 0.12941177],\n",
              "         [0.01568628, 0.04705883, 0.12941177],\n",
              "         [0.01568628, 0.04705883, 0.12941177]],\n",
              "\n",
              "        [[0.01176471, 0.10588236, 0.20000002],\n",
              "         [0.01176471, 0.10588236, 0.20000002],\n",
              "         [0.01176471, 0.10588236, 0.20000002],\n",
              "         ...,\n",
              "         [0.01568628, 0.04705883, 0.12941177],\n",
              "         [0.01568628, 0.04705883, 0.12941177],\n",
              "         [0.01568628, 0.04705883, 0.12941177]],\n",
              "\n",
              "        ...,\n",
              "\n",
              "        [[0.01960784, 0.05490196, 0.07450981],\n",
              "         [0.01960784, 0.0627451 , 0.08627451],\n",
              "         [0.02352941, 0.06666667, 0.09019608],\n",
              "         ...,\n",
              "         [0.01960784, 0.10588236, 0.09411766],\n",
              "         [0.03137255, 0.11764707, 0.10588236],\n",
              "         [0.03137255, 0.11764707, 0.10980393]],\n",
              "\n",
              "        [[0.02352941, 0.05882353, 0.08627451],\n",
              "         [0.02352941, 0.05882353, 0.08627451],\n",
              "         [0.01960784, 0.0627451 , 0.08627451],\n",
              "         ...,\n",
              "         [0.02352941, 0.1137255 , 0.09019608],\n",
              "         [0.04705883, 0.13725491, 0.1137255 ],\n",
              "         [0.08627451, 0.17254902, 0.16078432]],\n",
              "\n",
              "        [[0.02352941, 0.05882353, 0.08627451],\n",
              "         [0.02352941, 0.05882353, 0.08627451],\n",
              "         [0.02352941, 0.05882353, 0.08627451],\n",
              "         ...,\n",
              "         [0.00784314, 0.09803922, 0.07450981],\n",
              "         [0.04313726, 0.13333334, 0.10980393],\n",
              "         [0.10588236, 0.18823531, 0.16862746]]],\n",
              "\n",
              "\n",
              "       [[[0.13725491, 0.227451  , 0.29803923],\n",
              "         [0.13333334, 0.22352943, 0.29411766],\n",
              "         [0.12941177, 0.21960786, 0.2901961 ],\n",
              "         ...,\n",
              "         [0.227451  , 0.32941177, 0.38823533],\n",
              "         [0.23529413, 0.3372549 , 0.39607847],\n",
              "         [0.24313727, 0.34509805, 0.4039216 ]],\n",
              "\n",
              "        [[0.27058825, 0.37254903, 0.43921572],\n",
              "         [0.2627451 , 0.3647059 , 0.43137258],\n",
              "         [0.25882354, 0.36078432, 0.427451  ],\n",
              "         ...,\n",
              "         [0.34509805, 0.454902  , 0.50980395],\n",
              "         [0.3529412 , 0.46274513, 0.5176471 ],\n",
              "         [0.36078432, 0.47058827, 0.5254902 ]],\n",
              "\n",
              "        [[0.34117648, 0.4431373 , 0.50980395],\n",
              "         [0.33333334, 0.43529415, 0.5019608 ],\n",
              "         [0.32941177, 0.43137258, 0.49803925],\n",
              "         ...,\n",
              "         [0.34901962, 0.454902  , 0.52156866],\n",
              "         [0.35686275, 0.46274513, 0.5294118 ],\n",
              "         [0.3647059 , 0.47058827, 0.5372549 ]],\n",
              "\n",
              "        ...,\n",
              "\n",
              "        [[0.15686275, 0.19215688, 0.11764707],\n",
              "         [0.14901961, 0.18431373, 0.10980393],\n",
              "         [0.14509805, 0.18039216, 0.10588236],\n",
              "         ...,\n",
              "         [0.07843138, 0.1254902 , 0.08627451],\n",
              "         [0.08235294, 0.12941177, 0.09019608],\n",
              "         [0.08235294, 0.12941177, 0.09019608]],\n",
              "\n",
              "        [[0.14117648, 0.17254902, 0.09019608],\n",
              "         [0.13333334, 0.16470589, 0.08235294],\n",
              "         [0.1254902 , 0.15686275, 0.07450981],\n",
              "         ...,\n",
              "         [0.06666667, 0.10980393, 0.05490196],\n",
              "         [0.06666667, 0.10588236, 0.0627451 ],\n",
              "         [0.0627451 , 0.10196079, 0.05882353]],\n",
              "\n",
              "        [[0.12156864, 0.15294118, 0.07058824],\n",
              "         [0.1137255 , 0.14509805, 0.0627451 ],\n",
              "         [0.10980393, 0.14117648, 0.05882353],\n",
              "         ...,\n",
              "         [0.06666667, 0.09803922, 0.04705883],\n",
              "         [0.0627451 , 0.09411766, 0.04313726],\n",
              "         [0.05882353, 0.09019608, 0.03921569]]]], dtype=float32)"
            ]
          },
          "metadata": {
            "tags": []
          },
          "execution_count": 76
        }
      ]
    },
    {
      "cell_type": "markdown",
      "metadata": {
        "id": "9NVHEV85Xq4B",
        "colab_type": "text"
      },
      "source": [
        "## Instatiate Model"
      ]
    },
    {
      "cell_type": "code",
      "metadata": {
        "id": "QdnAS17RXq4C",
        "colab_type": "code",
        "colab": {}
      },
      "source": [
        "for layer in resnet.layers:\n",
        "    layer.trainable = False"
      ],
      "execution_count": 71,
      "outputs": []
    },
    {
      "cell_type": "code",
      "metadata": {
        "id": "2Pl7jfzoZ2DO",
        "colab_type": "code",
        "colab": {}
      },
      "source": [
        "x = resnet.output\n",
        "x = GlobalAveragePooling2D()(x) # This layer is a really fancy flatten\n",
        "x = Dense(1024, activation='relu')(x)\n",
        "predictions = Dense(1, activation='sigmoid')(x)\n",
        "model = Model(resnet.input, predictions)\n",
        "model.compile(optimizer='adam',\n",
        "              loss='binary_crossentropy',\n",
        "              metrics=['accuracy'])"
      ],
      "execution_count": 74,
      "outputs": []
    },
    {
      "cell_type": "markdown",
      "metadata": {
        "id": "GvpAwK7zXq4J",
        "colab_type": "text"
      },
      "source": [
        "## Fit Model"
      ]
    },
    {
      "cell_type": "code",
      "metadata": {
        "id": "r-WYEsc1Xq4J",
        "colab_type": "code",
        "colab": {
          "base_uri": "https://localhost:8080/",
          "height": 1000
        },
        "outputId": "e718c09f-a3e1-4aaf-d4db-8cd02481ac09"
      },
      "source": [
        "history = model.fit(\n",
        "    train_data_gen,\n",
        "    steps_per_epoch=total_train // batch_size,\n",
        "    epochs=epochs,\n",
        "    validation_data=val_data_gen,\n",
        "    validation_steps=total_val // batch_size\n",
        ")"
      ],
      "execution_count": 75,
      "outputs": [
        {
          "output_type": "stream",
          "text": [
            "Epoch 1/50\n",
            "32/32 [==============================] - 4s 111ms/step - loss: 0.9074 - accuracy: 0.5289 - val_loss: 0.5822 - val_accuracy: 0.6705\n",
            "Epoch 2/50\n",
            "32/32 [==============================] - 3s 80ms/step - loss: 0.5934 - accuracy: 0.6806 - val_loss: 0.7225 - val_accuracy: 0.4261\n",
            "Epoch 3/50\n",
            "32/32 [==============================] - 3s 80ms/step - loss: 0.5487 - accuracy: 0.7246 - val_loss: 0.4701 - val_accuracy: 0.7898\n",
            "Epoch 4/50\n",
            "32/32 [==============================] - 3s 82ms/step - loss: 0.4715 - accuracy: 0.8204 - val_loss: 0.4921 - val_accuracy: 0.8068\n",
            "Epoch 5/50\n",
            "32/32 [==============================] - 3s 82ms/step - loss: 0.4080 - accuracy: 0.8802 - val_loss: 0.6295 - val_accuracy: 0.6193\n",
            "Epoch 6/50\n",
            "32/32 [==============================] - 3s 82ms/step - loss: 0.4475 - accuracy: 0.7725 - val_loss: 0.3982 - val_accuracy: 0.8750\n",
            "Epoch 7/50\n",
            "32/32 [==============================] - 3s 82ms/step - loss: 0.3933 - accuracy: 0.8204 - val_loss: 0.3792 - val_accuracy: 0.8580\n",
            "Epoch 8/50\n",
            "32/32 [==============================] - 3s 80ms/step - loss: 0.3408 - accuracy: 0.8802 - val_loss: 0.3563 - val_accuracy: 0.8864\n",
            "Epoch 9/50\n",
            "32/32 [==============================] - 3s 80ms/step - loss: 0.3124 - accuracy: 0.8743 - val_loss: 0.3526 - val_accuracy: 0.8636\n",
            "Epoch 10/50\n",
            "32/32 [==============================] - 3s 80ms/step - loss: 0.3485 - accuracy: 0.8623 - val_loss: 0.4282 - val_accuracy: 0.8239\n",
            "Epoch 11/50\n",
            "32/32 [==============================] - 3s 80ms/step - loss: 0.2680 - accuracy: 0.9102 - val_loss: 0.4207 - val_accuracy: 0.8239\n",
            "Epoch 12/50\n",
            "32/32 [==============================] - 3s 80ms/step - loss: 0.2509 - accuracy: 0.9336 - val_loss: 0.2934 - val_accuracy: 0.8920\n",
            "Epoch 13/50\n",
            "32/32 [==============================] - 3s 80ms/step - loss: 0.2660 - accuracy: 0.9002 - val_loss: 0.3085 - val_accuracy: 0.8750\n",
            "Epoch 14/50\n",
            "32/32 [==============================] - 3s 79ms/step - loss: 0.2542 - accuracy: 0.9082 - val_loss: 0.4654 - val_accuracy: 0.7500\n",
            "Epoch 15/50\n",
            "32/32 [==============================] - 3s 80ms/step - loss: 0.2598 - accuracy: 0.8982 - val_loss: 0.2925 - val_accuracy: 0.9034\n",
            "Epoch 16/50\n",
            "32/32 [==============================] - 3s 80ms/step - loss: 0.2114 - accuracy: 0.9122 - val_loss: 0.2838 - val_accuracy: 0.9034\n",
            "Epoch 17/50\n",
            "32/32 [==============================] - 3s 80ms/step - loss: 0.2270 - accuracy: 0.9142 - val_loss: 0.2620 - val_accuracy: 0.9148\n",
            "Epoch 18/50\n",
            "32/32 [==============================] - 3s 79ms/step - loss: 0.2775 - accuracy: 0.8822 - val_loss: 0.2158 - val_accuracy: 0.9432\n",
            "Epoch 19/50\n",
            "32/32 [==============================] - 3s 79ms/step - loss: 0.2268 - accuracy: 0.9162 - val_loss: 0.2500 - val_accuracy: 0.8864\n",
            "Epoch 20/50\n",
            "32/32 [==============================] - 3s 79ms/step - loss: 0.2029 - accuracy: 0.9261 - val_loss: 0.3206 - val_accuracy: 0.8295\n",
            "Epoch 21/50\n",
            "32/32 [==============================] - 3s 79ms/step - loss: 0.2020 - accuracy: 0.9162 - val_loss: 0.2521 - val_accuracy: 0.9034\n",
            "Epoch 22/50\n",
            "32/32 [==============================] - 3s 79ms/step - loss: 0.1494 - accuracy: 0.9441 - val_loss: 0.2926 - val_accuracy: 0.8580\n",
            "Epoch 23/50\n",
            "32/32 [==============================] - 3s 79ms/step - loss: 0.1661 - accuracy: 0.9441 - val_loss: 0.3020 - val_accuracy: 0.8580\n",
            "Epoch 24/50\n",
            "32/32 [==============================] - 3s 79ms/step - loss: 0.1946 - accuracy: 0.9242 - val_loss: 0.2031 - val_accuracy: 0.9432\n",
            "Epoch 25/50\n",
            "32/32 [==============================] - 3s 79ms/step - loss: 0.2032 - accuracy: 0.9182 - val_loss: 0.2812 - val_accuracy: 0.8807\n",
            "Epoch 26/50\n",
            "32/32 [==============================] - 3s 79ms/step - loss: 0.1460 - accuracy: 0.9441 - val_loss: 0.2584 - val_accuracy: 0.8920\n",
            "Epoch 27/50\n",
            "32/32 [==============================] - 3s 79ms/step - loss: 0.1341 - accuracy: 0.9561 - val_loss: 0.2131 - val_accuracy: 0.9318\n",
            "Epoch 28/50\n",
            "32/32 [==============================] - 3s 79ms/step - loss: 0.1636 - accuracy: 0.9401 - val_loss: 0.5973 - val_accuracy: 0.7670\n",
            "Epoch 29/50\n",
            "32/32 [==============================] - 3s 80ms/step - loss: 0.1440 - accuracy: 0.9481 - val_loss: 0.1757 - val_accuracy: 0.9432\n",
            "Epoch 30/50\n",
            "32/32 [==============================] - 3s 80ms/step - loss: 0.1091 - accuracy: 0.9621 - val_loss: 0.1984 - val_accuracy: 0.9318\n",
            "Epoch 31/50\n",
            "32/32 [==============================] - 3s 79ms/step - loss: 0.1113 - accuracy: 0.9681 - val_loss: 0.5501 - val_accuracy: 0.8011\n",
            "Epoch 32/50\n",
            "32/32 [==============================] - 3s 81ms/step - loss: 0.1195 - accuracy: 0.9601 - val_loss: 0.2300 - val_accuracy: 0.9261\n",
            "Epoch 33/50\n",
            "32/32 [==============================] - 3s 81ms/step - loss: 0.1431 - accuracy: 0.9381 - val_loss: 0.9027 - val_accuracy: 0.6591\n",
            "Epoch 34/50\n",
            "32/32 [==============================] - 3s 80ms/step - loss: 0.1863 - accuracy: 0.9321 - val_loss: 0.2039 - val_accuracy: 0.9375\n",
            "Epoch 35/50\n",
            "32/32 [==============================] - 3s 80ms/step - loss: 0.2875 - accuracy: 0.8782 - val_loss: 0.3294 - val_accuracy: 0.8580\n",
            "Epoch 36/50\n",
            "32/32 [==============================] - 3s 81ms/step - loss: 0.0928 - accuracy: 0.9681 - val_loss: 0.3434 - val_accuracy: 0.8636\n",
            "Epoch 37/50\n",
            "32/32 [==============================] - 3s 81ms/step - loss: 0.1210 - accuracy: 0.9541 - val_loss: 0.4694 - val_accuracy: 0.8182\n",
            "Epoch 38/50\n",
            "32/32 [==============================] - 3s 79ms/step - loss: 0.1227 - accuracy: 0.9461 - val_loss: 0.4258 - val_accuracy: 0.7955\n",
            "Epoch 39/50\n",
            "32/32 [==============================] - 3s 79ms/step - loss: 0.2085 - accuracy: 0.9062 - val_loss: 0.5284 - val_accuracy: 0.8125\n",
            "Epoch 40/50\n",
            "32/32 [==============================] - 3s 81ms/step - loss: 0.1488 - accuracy: 0.9461 - val_loss: 0.2438 - val_accuracy: 0.9148\n",
            "Epoch 41/50\n",
            "32/32 [==============================] - 3s 80ms/step - loss: 0.0977 - accuracy: 0.9701 - val_loss: 0.2024 - val_accuracy: 0.9318\n",
            "Epoch 42/50\n",
            "32/32 [==============================] - 3s 79ms/step - loss: 0.1187 - accuracy: 0.9561 - val_loss: 0.3711 - val_accuracy: 0.8580\n",
            "Epoch 43/50\n",
            "32/32 [==============================] - 3s 80ms/step - loss: 0.0888 - accuracy: 0.9648 - val_loss: 0.3251 - val_accuracy: 0.8750\n",
            "Epoch 44/50\n",
            "32/32 [==============================] - 3s 79ms/step - loss: 0.1499 - accuracy: 0.9321 - val_loss: 0.3503 - val_accuracy: 0.8636\n",
            "Epoch 45/50\n",
            "32/32 [==============================] - 3s 79ms/step - loss: 0.1474 - accuracy: 0.9481 - val_loss: 0.1984 - val_accuracy: 0.9375\n",
            "Epoch 46/50\n",
            "32/32 [==============================] - 3s 79ms/step - loss: 0.1081 - accuracy: 0.9681 - val_loss: 0.3695 - val_accuracy: 0.8580\n",
            "Epoch 47/50\n",
            "32/32 [==============================] - 3s 79ms/step - loss: 0.0924 - accuracy: 0.9661 - val_loss: 0.1687 - val_accuracy: 0.9489\n",
            "Epoch 48/50\n",
            "32/32 [==============================] - 3s 79ms/step - loss: 0.1161 - accuracy: 0.9501 - val_loss: 0.2569 - val_accuracy: 0.8864\n",
            "Epoch 49/50\n",
            "32/32 [==============================] - 3s 79ms/step - loss: 0.0934 - accuracy: 0.9681 - val_loss: 0.2099 - val_accuracy: 0.9545\n",
            "Epoch 50/50\n",
            "32/32 [==============================] - 3s 79ms/step - loss: 0.0874 - accuracy: 0.9661 - val_loss: 0.1800 - val_accuracy: 0.9489\n"
          ],
          "name": "stdout"
        }
      ]
    },
    {
      "cell_type": "markdown",
      "metadata": {
        "id": "c3UddKsBXq4P",
        "colab_type": "text"
      },
      "source": [
        "# Custom CNN Model\n",
        "\n",
        "In this step, write and train your own convolutional neural network using Keras. You can use any architecture that suits you as long as it has at least one convolutional and one pooling layer at the beginning of the network - you can add more if you want. "
      ]
    },
    {
      "cell_type": "code",
      "metadata": {
        "id": "5vuZ1UyLXq4Q",
        "colab_type": "code",
        "colab": {}
      },
      "source": [
        "# Define the Model\n"
      ],
      "execution_count": null,
      "outputs": []
    },
    {
      "cell_type": "code",
      "metadata": {
        "id": "qQpxu79uXq4U",
        "colab_type": "code",
        "colab": {}
      },
      "source": [
        "# Compile Model"
      ],
      "execution_count": null,
      "outputs": []
    },
    {
      "cell_type": "code",
      "metadata": {
        "id": "YBjvJXZZXq4Z",
        "colab_type": "code",
        "colab": {}
      },
      "source": [
        "# Fit Model"
      ],
      "execution_count": null,
      "outputs": []
    },
    {
      "cell_type": "markdown",
      "metadata": {
        "id": "OYXzY3SjXq4h",
        "colab_type": "text"
      },
      "source": [
        "# Custom CNN Model with Image Manipulations\n",
        "\n",
        "To simulate an increase in a sample of image, you can apply image manipulation techniques: cropping, rotation, stretching, etc. Luckily Keras has some handy functions for us to apply these techniques to our mountain and forest example. Simply, you should be able to modify our image generator for the problem. Check out these resources to help you get started: \n",
        "\n",
        "1. [Keras `ImageGenerator` Class](https://keras.io/preprocessing/image/#imagedatagenerator-class)\n",
        "2. [Building a powerful image classifier with very little data](https://blog.keras.io/building-powerful-image-classification-models-using-very-little-data.html)\n",
        " "
      ]
    },
    {
      "cell_type": "code",
      "metadata": {
        "id": "ruYGju19Xq4i",
        "colab_type": "code",
        "colab": {}
      },
      "source": [
        ""
      ],
      "execution_count": null,
      "outputs": []
    },
    {
      "cell_type": "markdown",
      "metadata": {
        "colab_type": "text",
        "id": "uT3UV3gap9H6"
      },
      "source": [
        "# Resources and Stretch Goals\n",
        "\n",
        "Stretch goals\n",
        "- Enhance your code to use classes/functions and accept terms to search and classes to look for in recognizing the downloaded images (e.g. download images of parties, recognize all that contain balloons)\n",
        "- Check out [other available pretrained networks](https://tfhub.dev), try some and compare\n",
        "- Image recognition/classification is somewhat solved, but *relationships* between entities and describing an image is not - check out some of the extended resources (e.g. [Visual Genome](https://visualgenome.org/)) on the topic\n",
        "- Transfer learning - using images you source yourself, [retrain a classifier](https://www.tensorflow.org/hub/tutorials/image_retraining) with a new category\n",
        "- (Not CNN related) Use [piexif](https://pypi.org/project/piexif/) to check out the metadata of images passed in to your system - see if they're from a national park! (Note - many images lack GPS metadata, so this won't work in most cases, but still cool)\n",
        "\n",
        "Resources\n",
        "- [Deep Residual Learning for Image Recognition](https://arxiv.org/abs/1512.03385) - influential paper (introduced ResNet)\n",
        "- [YOLO: Real-Time Object Detection](https://pjreddie.com/darknet/yolo/) - an influential convolution based object detection system, focused on inference speed (for applications to e.g. self driving vehicles)\n",
        "- [R-CNN, Fast R-CNN, Faster R-CNN, YOLO](https://towardsdatascience.com/r-cnn-fast-r-cnn-faster-r-cnn-yolo-object-detection-algorithms-36d53571365e) - comparison of object detection systems\n",
        "- [Common Objects in Context](http://cocodataset.org/) - a large-scale object detection, segmentation, and captioning dataset\n",
        "- [Visual Genome](https://visualgenome.org/) - a dataset, a knowledge base, an ongoing effort to connect structured image concepts to language"
      ]
    }
  ]
}